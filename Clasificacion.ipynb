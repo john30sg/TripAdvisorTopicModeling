{
 "cells": [
  {
   "attachments": {},
   "cell_type": "markdown",
   "metadata": {
    "id": "lMvDWHo44vjP"
   },
   "source": [
    "# Review Classification Models"
   ]
  },
  {
   "attachments": {},
   "cell_type": "markdown",
   "metadata": {
    "id": "dAuvaHjZUNNe"
   },
   "source": [
    "## Importing Libraries"
   ]
  },
  {
   "cell_type": "code",
   "execution_count": 1,
   "metadata": {},
   "outputs": [],
   "source": [
    "# !pip install xgboost\n",
    "# !pip install lightgbm\n",
    "# ! apt install -qq enchant\n",
    "# ! apt install myspell-en\n",
    "# ! pip install pyenchant"
   ]
  },
  {
   "cell_type": "code",
   "execution_count": 2,
   "metadata": {},
   "outputs": [],
   "source": [
    "import nltk\n",
    "# nltk.download('stopwords')\n",
    "# nltk.download('punkt')"
   ]
  },
  {
   "cell_type": "code",
   "execution_count": 3,
   "metadata": {
    "colab": {
     "base_uri": "https://localhost:8080/"
    },
    "id": "fqnR8sM_UMfA",
    "outputId": "12398595-5cb3-4e0f-bf47-e4fd018d109a"
   },
   "outputs": [
    {
     "name": "stderr",
     "output_type": "stream",
     "text": [
      "d:\\venv_python\\text_mining\\lib\\site-packages\\tqdm\\auto.py:22: TqdmWarning: IProgress not found. Please update jupyter and ipywidgets. See https://ipywidgets.readthedocs.io/en/stable/user_install.html\n",
      "  from .autonotebook import tqdm as notebook_tqdm\n"
     ]
    },
    {
     "data": {
      "text/html": [
       "<style type='text/css'>\n",
       ".datatable table.frame { margin-bottom: 0; }\n",
       ".datatable table.frame thead { border-bottom: none; }\n",
       ".datatable table.frame tr.coltypes td {  color: #FFFFFF;  line-height: 6px;  padding: 0 0.5em;}\n",
       ".datatable .bool    { background: #DDDD99; }\n",
       ".datatable .object  { background: #565656; }\n",
       ".datatable .int     { background: #5D9E5D; }\n",
       ".datatable .float   { background: #4040CC; }\n",
       ".datatable .str     { background: #CC4040; }\n",
       ".datatable .time    { background: #40CC40; }\n",
       ".datatable .row_index {  background: var(--jp-border-color3);  border-right: 1px solid var(--jp-border-color0);  color: var(--jp-ui-font-color3);  font-size: 9px;}\n",
       ".datatable .frame tbody td { text-align: left; }\n",
       ".datatable .frame tr.coltypes .row_index {  background: var(--jp-border-color0);}\n",
       ".datatable th:nth-child(2) { padding-left: 12px; }\n",
       ".datatable .hellipsis {  color: var(--jp-cell-editor-border-color);}\n",
       ".datatable .vellipsis {  background: var(--jp-layout-color0);  color: var(--jp-cell-editor-border-color);}\n",
       ".datatable .na {  color: var(--jp-cell-editor-border-color);  font-size: 80%;}\n",
       ".datatable .sp {  opacity: 0.25;}\n",
       ".datatable .footer { font-size: 9px; }\n",
       ".datatable .frame_dimensions {  background: var(--jp-border-color3);  border-top: 1px solid var(--jp-border-color0);  color: var(--jp-ui-font-color3);  display: inline-block;  opacity: 0.6;  padding: 1px 10px 1px 5px;}\n",
       "</style>\n"
      ],
      "text/plain": [
       "<IPython.core.display.HTML object>"
      ]
     },
     "metadata": {},
     "output_type": "display_data"
    }
   ],
   "source": [
    "import pandas as pd\n",
    "import numpy as np\n",
    "import plotly.express as px\n",
    "\n",
    "from nltk.tokenize import word_tokenize\n",
    "from nltk.corpus import stopwords\n",
    "from nltk.stem import SnowballStemmer\n",
    "import string\n",
    "stop_words = set(stopwords.words('english'))\n",
    "stop_words.update(string.punctuation)\n",
    "stop_words.update(['stay', 'stayed', 'service', 'got', 'room', 'night', 'food', 'did', 'rooms', \n",
    "'day', 'resort', 'hotel', 'beach', 'staff'])\n",
    "from nltk.stem import WordNetLemmatizer\n",
    "wordnet_lemmatizer = WordNetLemmatizer()\n",
    "from nltk.stem import SnowballStemmer\n",
    "stemmer = SnowballStemmer('english')\n",
    "import string\n",
    "import gensim\n",
    "import re\n",
    "\n",
    "from sklearn.feature_extraction.text import CountVectorizer\n",
    "from sklearn.feature_extraction.text import TfidfVectorizer\n",
    "from sklearn.linear_model import LogisticRegression\n",
    "from sklearn.model_selection import train_test_split\n",
    "from sklearn.feature_selection import SelectKBest, chi2, f_classif\n",
    "\n",
    "\n",
    "import optuna\n",
    "from sklearn.metrics import classification_report, confusion_matrix\n",
    "from sklearn.metrics import plot_roc_curve,plot_confusion_matrix\n",
    "from lightgbm import LGBMClassifier\n",
    "from sklearn.svm import LinearSVC\n",
    "from sklearn.model_selection import StratifiedKFold\n",
    "from sklearn.model_selection import cross_val_score\n",
    "\n",
    "\n",
    "# import warnings filter\n",
    "from warnings import simplefilter\n",
    "# ignore all future warnings\n",
    "simplefilter(action='ignore', category=FutureWarning)\n",
    "\n",
    "optuna.logging.set_verbosity(optuna.logging.ERROR)\n",
    "\n",
    "pd.set_option('display.max_colwidth',300)"
   ]
  },
  {
   "attachments": {},
   "cell_type": "markdown",
   "metadata": {
    "id": "pI3hzf8c4_sN"
   },
   "source": [
    "## EDA"
   ]
  },
  {
   "cell_type": "code",
   "execution_count": 4,
   "metadata": {
    "colab": {
     "base_uri": "https://localhost:8080/"
    },
    "id": "B6eAo9fM5IWF",
    "outputId": "f07388d4-9058-4f22-f0ea-9a28438bba24"
   },
   "outputs": [
    {
     "data": {
      "text/plain": [
       "(20491, 2)"
      ]
     },
     "execution_count": 4,
     "metadata": {},
     "output_type": "execute_result"
    }
   ],
   "source": [
    "df = pd.read_csv('../Datasets/tripadvisor_hotel_reviews.csv')\n",
    "df.shape"
   ]
  },
  {
   "cell_type": "code",
   "execution_count": 5,
   "metadata": {
    "colab": {
     "base_uri": "https://localhost:8080/",
     "height": 581
    },
    "id": "S08VG-UHOSQ1",
    "outputId": "086a55b3-56f5-4bc4-f148-a59040921960"
   },
   "outputs": [
    {
     "data": {
      "text/html": [
       "<div>\n",
       "<style scoped>\n",
       "    .dataframe tbody tr th:only-of-type {\n",
       "        vertical-align: middle;\n",
       "    }\n",
       "\n",
       "    .dataframe tbody tr th {\n",
       "        vertical-align: top;\n",
       "    }\n",
       "\n",
       "    .dataframe thead th {\n",
       "        text-align: right;\n",
       "    }\n",
       "</style>\n",
       "<table border=\"1\" class=\"dataframe\">\n",
       "  <thead>\n",
       "    <tr style=\"text-align: right;\">\n",
       "      <th></th>\n",
       "      <th>Review</th>\n",
       "      <th>Rating</th>\n",
       "    </tr>\n",
       "  </thead>\n",
       "  <tbody>\n",
       "    <tr>\n",
       "      <th>0</th>\n",
       "      <td>nice hotel expensive parking got good deal stay hotel anniversary, arrived late evening took advice previous reviews did valet parking, check quick easy, little disappointed non-existent view room room clean nice size, bed comfortable woke stiff neck high pillows, not soundproof like heard music...</td>\n",
       "      <td>4</td>\n",
       "    </tr>\n",
       "    <tr>\n",
       "      <th>1</th>\n",
       "      <td>ok nothing special charge diamond member hilton decided chain shot 20th anniversary seattle, start booked suite paid extra website description not, suite bedroom bathroom standard hotel room, took printed reservation desk showed said things like tv couch ect desk clerk told oh mixed suites descr...</td>\n",
       "      <td>2</td>\n",
       "    </tr>\n",
       "    <tr>\n",
       "      <th>2</th>\n",
       "      <td>nice rooms not 4* experience hotel monaco seattle good hotel n't 4* level.positives large bathroom mediterranean suite comfortable bed pillowsattentive housekeeping staffnegatives ac unit malfunctioned stay desk disorganized, missed 3 separate wakeup calls, concierge busy hard touch, did n't pro...</td>\n",
       "      <td>3</td>\n",
       "    </tr>\n",
       "    <tr>\n",
       "      <th>3</th>\n",
       "      <td>unique, great stay, wonderful time hotel monaco, location excellent short stroll main downtown shopping area, pet friendly room showed no signs animal hair smells, monaco suite sleeping area big striped curtains pulled closed nice touch felt cosy, goldfish named brandi enjoyed, did n't partake f...</td>\n",
       "      <td>5</td>\n",
       "    </tr>\n",
       "    <tr>\n",
       "      <th>4</th>\n",
       "      <td>great stay great stay, went seahawk game awesome, downfall view building did n't complain, room huge staff helpful, booked hotels website seahawk package, no charge parking got voucher taxi, problem taxi driver did n't want accept voucher barely spoke english, funny thing speak arabic called sta...</td>\n",
       "      <td>5</td>\n",
       "    </tr>\n",
       "    <tr>\n",
       "      <th>5</th>\n",
       "      <td>love monaco staff husband stayed hotel crazy weekend attending memorial service best friend husband celebrating 12th wedding anniversary, talk mixed emotions, booked suite hotel monte carlos, loaned beautiful fan-tanned goldfish named joliet weekend visited dogs worked desk human companions, roo...</td>\n",
       "      <td>5</td>\n",
       "    </tr>\n",
       "    <tr>\n",
       "      <th>6</th>\n",
       "      <td>cozy stay rainy city, husband spent 7 nights monaco early january 2008. business trip chance come ride.we booked monte carlo suite proved comfortable longish stay, room 905 located street building, street noise not problem view interesting rooms building look dank alley midsection large office b...</td>\n",
       "      <td>5</td>\n",
       "    </tr>\n",
       "    <tr>\n",
       "      <th>7</th>\n",
       "      <td>excellent staff, housekeeping quality hotel chocked staff make feel home, experienced exceptional service desk staff concierge door men maid service needs work, maid failed tuck sheets foot bed instance soiled sheets used, staff quickley resolved soiled sheets issue, guess relates employee not r...</td>\n",
       "      <td>4</td>\n",
       "    </tr>\n",
       "    <tr>\n",
       "      <th>8</th>\n",
       "      <td>hotel stayed hotel monaco cruise, rooms generous decorated uniquely, hotel remodeled pacific bell building charm sturdiness, everytime walked bell men felt like coming home, secure, great single travelers, location fabulous, walk things pike market space needle.little grocery/drug store block aw...</td>\n",
       "      <td>5</td>\n",
       "    </tr>\n",
       "    <tr>\n",
       "      <th>9</th>\n",
       "      <td>excellent stayed hotel monaco past w/e delight, reception staff friendly professional room smart comfortable bed, particularly liked reception small dog received staff guests spoke loved, mild negative distance uphill ppmarket restaurants 1st, overall great experience,</td>\n",
       "      <td>5</td>\n",
       "    </tr>\n",
       "  </tbody>\n",
       "</table>\n",
       "</div>"
      ],
      "text/plain": [
       "                                                                                                                                                                                                                                                                                                        Review  \\\n",
       "0  nice hotel expensive parking got good deal stay hotel anniversary, arrived late evening took advice previous reviews did valet parking, check quick easy, little disappointed non-existent view room room clean nice size, bed comfortable woke stiff neck high pillows, not soundproof like heard music...   \n",
       "1  ok nothing special charge diamond member hilton decided chain shot 20th anniversary seattle, start booked suite paid extra website description not, suite bedroom bathroom standard hotel room, took printed reservation desk showed said things like tv couch ect desk clerk told oh mixed suites descr...   \n",
       "2  nice rooms not 4* experience hotel monaco seattle good hotel n't 4* level.positives large bathroom mediterranean suite comfortable bed pillowsattentive housekeeping staffnegatives ac unit malfunctioned stay desk disorganized, missed 3 separate wakeup calls, concierge busy hard touch, did n't pro...   \n",
       "3  unique, great stay, wonderful time hotel monaco, location excellent short stroll main downtown shopping area, pet friendly room showed no signs animal hair smells, monaco suite sleeping area big striped curtains pulled closed nice touch felt cosy, goldfish named brandi enjoyed, did n't partake f...   \n",
       "4  great stay great stay, went seahawk game awesome, downfall view building did n't complain, room huge staff helpful, booked hotels website seahawk package, no charge parking got voucher taxi, problem taxi driver did n't want accept voucher barely spoke english, funny thing speak arabic called sta...   \n",
       "5  love monaco staff husband stayed hotel crazy weekend attending memorial service best friend husband celebrating 12th wedding anniversary, talk mixed emotions, booked suite hotel monte carlos, loaned beautiful fan-tanned goldfish named joliet weekend visited dogs worked desk human companions, roo...   \n",
       "6  cozy stay rainy city, husband spent 7 nights monaco early january 2008. business trip chance come ride.we booked monte carlo suite proved comfortable longish stay, room 905 located street building, street noise not problem view interesting rooms building look dank alley midsection large office b...   \n",
       "7  excellent staff, housekeeping quality hotel chocked staff make feel home, experienced exceptional service desk staff concierge door men maid service needs work, maid failed tuck sheets foot bed instance soiled sheets used, staff quickley resolved soiled sheets issue, guess relates employee not r...   \n",
       "8  hotel stayed hotel monaco cruise, rooms generous decorated uniquely, hotel remodeled pacific bell building charm sturdiness, everytime walked bell men felt like coming home, secure, great single travelers, location fabulous, walk things pike market space needle.little grocery/drug store block aw...   \n",
       "9                              excellent stayed hotel monaco past w/e delight, reception staff friendly professional room smart comfortable bed, particularly liked reception small dog received staff guests spoke loved, mild negative distance uphill ppmarket restaurants 1st, overall great experience,     \n",
       "\n",
       "   Rating  \n",
       "0       4  \n",
       "1       2  \n",
       "2       3  \n",
       "3       5  \n",
       "4       5  \n",
       "5       5  \n",
       "6       5  \n",
       "7       4  \n",
       "8       5  \n",
       "9       5  "
      ]
     },
     "execution_count": 5,
     "metadata": {},
     "output_type": "execute_result"
    }
   ],
   "source": [
    "df.head(10)"
   ]
  },
  {
   "cell_type": "code",
   "execution_count": 6,
   "metadata": {
    "colab": {
     "base_uri": "https://localhost:8080/"
    },
    "id": "XHRm9S_itmp5",
    "outputId": "31a4ebfb-6639-4563-8b79-47043a509de5"
   },
   "outputs": [
    {
     "name": "stdout",
     "output_type": "stream",
     "text": [
      "Rating: \n"
     ]
    },
    {
     "data": {
      "text/plain": [
       "5    0.441853\n",
       "4    0.294715\n",
       "3    0.106583\n",
       "2    0.087502\n",
       "1    0.069348\n",
       "Name: Rating, dtype: float64"
      ]
     },
     "execution_count": 6,
     "metadata": {},
     "output_type": "execute_result"
    }
   ],
   "source": [
    "print(\"Rating: \")\n",
    "df.Rating.value_counts(normalize=True)"
   ]
  },
  {
   "cell_type": "code",
   "execution_count": 7,
   "metadata": {
    "id": "hmh3hXHZLmxo"
   },
   "outputs": [],
   "source": [
    "# A new target is created where 0 is a detractor and 1 is a promoter.\n",
    "\n",
    "conditions = [df.Rating.isin([1,2,3]), df.Rating.isin([4,5])]\n",
    "values = [0,1]\n",
    "\n",
    "df['Cluster'] =np.select(conditions, values)\n",
    "df['Review_original'] = df['Review']\n"
   ]
  },
  {
   "cell_type": "code",
   "execution_count": 8,
   "metadata": {},
   "outputs": [
    {
     "name": "stdout",
     "output_type": "stream",
     "text": [
      "Target: \n"
     ]
    },
    {
     "data": {
      "text/plain": [
       "1    0.736567\n",
       "0    0.263433\n",
       "Name: Cluster, dtype: float64"
      ]
     },
     "execution_count": 8,
     "metadata": {},
     "output_type": "execute_result"
    }
   ],
   "source": [
    "print(\"Target: \")\n",
    "df.Cluster.value_counts(normalize=True)"
   ]
  },
  {
   "cell_type": "code",
   "execution_count": 9,
   "metadata": {
    "id": "WXTg_VJO73nq"
   },
   "outputs": [],
   "source": [
    "def get_top_n_words(corpus, n=10):\n",
    "    cv = CountVectorizer()\n",
    "    corpus_matrix = cv.fit_transform(corpus)\n",
    "    corpus_matrix = pd.DataFrame.sparse.from_spmatrix(corpus_matrix, columns=cv.get_feature_names_out())\n",
    "    aux = corpus_matrix.sum()\n",
    "    aux=aux.to_frame('count')\n",
    "    aux.sort_values(by='count',ascending=False,inplace=True)\n",
    "    aux=aux.head(n)\n",
    "    return aux"
   ]
  },
  {
   "cell_type": "code",
   "execution_count": 10,
   "metadata": {
    "colab": {
     "base_uri": "https://localhost:8080/",
     "height": 788
    },
    "id": "0GMZfcN7CjRC",
    "outputId": "54b45fab-d6d5-433b-d6f5-e44b128481d5"
   },
   "outputs": [
    {
     "name": "stdout",
     "output_type": "stream",
     "text": [
      "       count\n",
      "hotel  49814\n",
      "room   35331\n",
      "not    31709\n",
      "great  21475\n",
      "good   17412\n",
      "staff  16633\n",
      "stay   15411\n",
      "did    14006\n",
      "just   12667\n",
      "nice   12643\n"
     ]
    },
    {
     "data": {
      "application/vnd.plotly.v1+json": {
       "config": {
        "plotlyServerURL": "https://plot.ly"
       },
       "data": [
        {
         "alignmentgroup": "True",
         "hovertemplate": "index=%{x}<br>count=%{y}<extra></extra>",
         "legendgroup": "",
         "marker": {
          "color": "#636efa",
          "pattern": {
           "shape": ""
          }
         },
         "name": "",
         "offsetgroup": "",
         "orientation": "v",
         "showlegend": false,
         "textposition": "auto",
         "type": "bar",
         "x": [
          "hotel",
          "room",
          "not",
          "great",
          "good",
          "staff",
          "stay",
          "did",
          "just",
          "nice",
          "rooms",
          "no",
          "location",
          "stayed",
          "service",
          "night",
          "time",
          "beach",
          "day",
          "breakfast",
          "clean",
          "food",
          "like",
          "resort",
          "place",
          "really",
          "the",
          "pool",
          "friendly",
          "people",
          "small",
          "little",
          "walk",
          "got",
          "excellent",
          "area",
          "best",
          "helpful",
          "bar",
          "restaurant",
          "restaurants",
          "bathroom",
          "water",
          "trip",
          "bed",
          "recommend",
          "beautiful",
          "view",
          "floor",
          "went",
          "comfortable",
          "desk",
          "nights",
          "check",
          "right",
          "want",
          "way",
          "free",
          "hotels",
          "better",
          "city",
          "away",
          "wonderful",
          "make",
          "booked",
          "bit",
          "price",
          "reviews",
          "large",
          "street",
          "minutes",
          "buffet",
          "say",
          "quite",
          "new",
          "days",
          "10",
          "lobby",
          "experience",
          "loved",
          "going",
          "morning",
          "close",
          "definitely",
          "airport",
          "big",
          "shower",
          "lovely",
          "fantastic",
          "problem",
          "think",
          "perfect",
          "took",
          "walking",
          "bad",
          "week",
          "lot",
          "need",
          "quiet",
          "arrived",
          "times",
          "overall",
          "we",
          "use",
          "old",
          "money",
          "beds",
          "star",
          "door",
          "sure",
          "long",
          "husband",
          "told",
          "drinks",
          "station",
          "coffee",
          "vacation",
          "left",
          "worth",
          "pretty",
          "know",
          "said",
          "eat",
          "dinner",
          "enjoyed",
          "staying",
          "value",
          "asked",
          "main",
          "try",
          "located",
          "things",
          "looking",
          "thing",
          "hot",
          "nothing",
          "internet",
          "feel",
          "ok",
          "outside",
          "lots",
          "english",
          "noise",
          "bus",
          "amazing",
          "home",
          "return",
          "easy",
          "fun",
          "far",
          "open",
          "kids",
          "couple",
          "family",
          "wanted",
          "early",
          "club",
          "in",
          "minute",
          "year",
          "guests",
          "different",
          "reception",
          "visit",
          "modern",
          "size",
          "air",
          "extremely",
          "suite",
          "available",
          "come",
          "near",
          "fine",
          "having",
          "expensive",
          "huge",
          "shopping",
          "tv",
          "30",
          "work",
          "towels",
          "hour",
          "pay",
          "evening",
          "returned",
          "end",
          "came",
          "ca",
          "especially",
          "thought",
          "felt",
          "getting",
          "high",
          "hours",
          "extra",
          "used",
          "spacious",
          "hard",
          "ask",
          "plenty",
          "highly",
          "drink",
          "car",
          "distance",
          "cana",
          "building",
          "punta",
          "ocean",
          "choice",
          "expect",
          "business",
          "spent",
          "wait",
          "rate",
          "does",
          "safe",
          "short",
          "places",
          "called",
          "paid",
          "parking",
          "san",
          "20",
          "able",
          "access",
          "15",
          "help",
          "wife",
          "read",
          "pleasant",
          "happy",
          "included",
          "quality",
          "book",
          "late",
          "look",
          "travel",
          "square",
          "probably",
          "fresh",
          "problems",
          "second",
          "la",
          "central",
          "given",
          "person",
          "deal",
          "enjoy",
          "ate",
          "lunch",
          "absolutely",
          "tour",
          "leave",
          "gave",
          "weekend",
          "metro",
          "actually",
          "00",
          "bring",
          "park",
          "looked",
          "needed",
          "checked",
          "standard",
          "lounge",
          "holiday",
          "special",
          "bars",
          "train",
          "barcelona",
          "cold",
          "taxi",
          "kept",
          "property",
          "let",
          "double",
          "concierge",
          "friends",
          "wine",
          "french",
          "views",
          "grounds",
          "paris",
          "disappointed",
          "stop",
          "luggage",
          "reservations",
          "ride",
          "convenient",
          "tried",
          "average",
          "plus",
          "sleep",
          "local",
          "spanish",
          "spa",
          "ready",
          "bath",
          "chairs",
          "yes",
          "entertainment",
          "space",
          "warm",
          "balcony",
          "tip",
          "shops",
          "line",
          "children",
          "arrival",
          "amsterdam",
          "fruit",
          "speak",
          "busy",
          "cost",
          "fabulous",
          "it",
          "saw",
          "years",
          "center",
          "real",
          "areas",
          "florence",
          "offered",
          "later",
          "manager",
          "fact",
          "including",
          "charge",
          "expected",
          "all",
          "town",
          "cheap",
          "love",
          "island",
          "block",
          "corner",
          "world",
          "pools",
          "walked",
          "certainly",
          "mini",
          "flight",
          "king",
          "road",
          "booking",
          "euros",
          "blocks",
          "facilities",
          "prices",
          "provided",
          "reservation",
          "liked",
          "tea",
          "nearby",
          "half",
          "decided",
          "site",
          "light",
          "decent",
          "centre",
          "resorts",
          "table",
          "noisy",
          "change",
          "spend",
          "served",
          "house",
          "course",
          "group",
          "start",
          "review",
          "kind",
          "hear",
          "window",
          "cool",
          "order",
          "activities",
          "italian",
          "there",
          "worked",
          "relaxing",
          "meal",
          "dominican",
          "reading",
          "offer",
          "website",
          "rest",
          "care",
          "windows",
          "market",
          "making",
          "run",
          "awesome",
          "card",
          "inn",
          "juan",
          "recommended",
          "seen",
          "guest",
          "poor",
          "sun",
          "12",
          "set",
          "quick",
          "style",
          "shuttle",
          "mind",
          "working",
          "reasonable",
          "tell",
          "non",
          "tourist",
          "bathrooms",
          "decor",
          "met",
          "maybe",
          "twice",
          "point",
          "music",
          "selection",
          "major",
          "finally",
          "trying",
          "bedroom",
          "weather",
          "honeymoon",
          "phone",
          "50",
          "daily",
          "waiting",
          "decorated",
          "brought",
          "entire",
          "needs",
          "upgraded",
          "tub",
          "11",
          "level",
          "american",
          "believe",
          "downtown",
          "cleaned",
          "complimentary",
          "bags",
          "palace",
          "grand",
          "shows",
          "variety",
          "tiny",
          "taken",
          "spoke",
          "sick",
          "cafe",
          "heard",
          "casino",
          "dont",
          "impressed",
          "choose",
          "fridge",
          "single",
          "chose",
          "negative",
          "note",
          "dining",
          "afternoon",
          "swim",
          "party",
          "usually",
          "london",
          "amenities",
          "number",
          "shop",
          "priced",
          "glass",
          "white",
          "inclusive",
          "sit",
          "sand",
          "housekeeping",
          "key",
          "maid",
          "gorgeous",
          "24",
          "request",
          "bottle",
          "welcome",
          "touch",
          "instead",
          "upgrade",
          "wall",
          "york",
          "dirty",
          "taking",
          "toilet",
          "hilton",
          "st",
          "worst",
          "previous",
          "beer",
          "superb"
         ],
         "xaxis": "x",
         "y": [
          49814,
          35331,
          31709,
          21475,
          17412,
          16633,
          15411,
          14006,
          12667,
          12643,
          12401,
          11846,
          11351,
          10500,
          10367,
          10151,
          10120,
          10061,
          9967,
          9737,
          9597,
          9412,
          8254,
          8139,
          7791,
          7790,
          7604,
          7577,
          6893,
          6836,
          6595,
          6260,
          6255,
          6206,
          6193,
          6116,
          5750,
          5705,
          5573,
          5334,
          5142,
          5103,
          5036,
          5021,
          4999,
          4865,
          4734,
          4729,
          4693,
          4680,
          4557,
          4474,
          4389,
          4328,
          4292,
          4199,
          4195,
          4187,
          4160,
          4153,
          4136,
          4117,
          4107,
          4080,
          3894,
          3880,
          3879,
          3781,
          3758,
          3742,
          3697,
          3601,
          3576,
          3557,
          3552,
          3480,
          3470,
          3467,
          3354,
          3275,
          3255,
          3239,
          3193,
          3165,
          3059,
          3054,
          3051,
          3049,
          3033,
          3022,
          2956,
          2955,
          2952,
          2912,
          2911,
          2905,
          2898,
          2897,
          2894,
          2868,
          2844,
          2842,
          2822,
          2800,
          2787,
          2731,
          2724,
          2721,
          2720,
          2719,
          2715,
          2715,
          2688,
          2651,
          2648,
          2644,
          2630,
          2588,
          2552,
          2535,
          2530,
          2526,
          2501,
          2476,
          2459,
          2453,
          2408,
          2390,
          2388,
          2382,
          2381,
          2367,
          2355,
          2340,
          2330,
          2310,
          2297,
          2279,
          2274,
          2248,
          2240,
          2235,
          2228,
          2225,
          2208,
          2208,
          2182,
          2180,
          2177,
          2175,
          2170,
          2143,
          2130,
          2129,
          2122,
          2108,
          2102,
          2099,
          2083,
          2074,
          2070,
          2067,
          2066,
          2064,
          2063,
          2062,
          2053,
          2052,
          2031,
          2025,
          2025,
          2009,
          2008,
          2005,
          1998,
          1987,
          1985,
          1968,
          1967,
          1966,
          1954,
          1944,
          1940,
          1916,
          1908,
          1899,
          1897,
          1890,
          1887,
          1885,
          1878,
          1876,
          1870,
          1866,
          1864,
          1857,
          1854,
          1847,
          1842,
          1838,
          1819,
          1793,
          1787,
          1786,
          1775,
          1769,
          1766,
          1763,
          1759,
          1748,
          1746,
          1746,
          1743,
          1731,
          1727,
          1726,
          1724,
          1723,
          1722,
          1702,
          1691,
          1689,
          1680,
          1671,
          1669,
          1666,
          1657,
          1651,
          1645,
          1639,
          1634,
          1625,
          1624,
          1621,
          1610,
          1606,
          1600,
          1584,
          1554,
          1533,
          1531,
          1529,
          1521,
          1509,
          1506,
          1495,
          1487,
          1486,
          1477,
          1476,
          1475,
          1473,
          1466,
          1465,
          1465,
          1459,
          1448,
          1444,
          1441,
          1440,
          1437,
          1434,
          1412,
          1406,
          1398,
          1376,
          1376,
          1368,
          1366,
          1351,
          1344,
          1327,
          1327,
          1316,
          1305,
          1305,
          1299,
          1298,
          1295,
          1293,
          1284,
          1278,
          1274,
          1274,
          1272,
          1262,
          1261,
          1261,
          1254,
          1251,
          1248,
          1248,
          1245,
          1239,
          1233,
          1232,
          1225,
          1220,
          1219,
          1213,
          1211,
          1206,
          1202,
          1201,
          1198,
          1198,
          1195,
          1185,
          1183,
          1180,
          1175,
          1166,
          1164,
          1163,
          1156,
          1156,
          1154,
          1153,
          1152,
          1152,
          1150,
          1149,
          1148,
          1146,
          1146,
          1143,
          1141,
          1140,
          1134,
          1130,
          1128,
          1127,
          1126,
          1125,
          1124,
          1121,
          1107,
          1103,
          1097,
          1091,
          1082,
          1080,
          1079,
          1075,
          1073,
          1071,
          1066,
          1051,
          1051,
          1051,
          1050,
          1048,
          1039,
          1038,
          1035,
          1030,
          1029,
          1028,
          1026,
          1022,
          1021,
          1020,
          1017,
          1016,
          1014,
          1011,
          1005,
          1004,
          1000,
          992,
          992,
          991,
          989,
          985,
          984,
          983,
          981,
          977,
          976,
          976,
          974,
          974,
          973,
          970,
          962,
          962,
          956,
          953,
          952,
          951,
          948,
          948,
          945,
          942,
          934,
          933,
          928,
          927,
          926,
          925,
          922,
          922,
          920,
          918,
          915,
          914,
          912,
          912,
          910,
          903,
          900,
          896,
          890,
          890,
          889,
          885,
          883,
          882,
          881,
          881,
          879,
          867,
          862,
          861,
          858,
          856,
          856,
          851,
          850,
          850,
          849,
          847,
          846,
          841,
          841,
          839,
          839,
          835,
          832,
          832,
          830,
          829,
          829,
          826,
          823,
          823,
          820,
          819,
          818,
          815,
          807,
          807,
          806,
          804,
          800,
          799,
          799,
          798,
          798,
          797,
          796,
          795,
          794,
          792,
          791,
          783,
          783,
          782,
          781,
          780,
          780,
          776,
          774,
          773,
          772,
          768,
          766,
          762,
          761,
          761,
          761,
          759,
          756,
          756,
          755,
          754,
          754,
          753,
          751,
          751,
          748,
          747,
          746,
          746,
          745,
          743,
          743,
          741,
          740,
          740
         ],
         "yaxis": "y"
        }
       ],
       "layout": {
        "barmode": "relative",
        "legend": {
         "tracegroupgap": 0
        },
        "margin": {
         "t": 60
        },
        "template": {
         "data": {
          "bar": [
           {
            "error_x": {
             "color": "#2a3f5f"
            },
            "error_y": {
             "color": "#2a3f5f"
            },
            "marker": {
             "line": {
              "color": "#E5ECF6",
              "width": 0.5
             },
             "pattern": {
              "fillmode": "overlay",
              "size": 10,
              "solidity": 0.2
             }
            },
            "type": "bar"
           }
          ],
          "barpolar": [
           {
            "marker": {
             "line": {
              "color": "#E5ECF6",
              "width": 0.5
             },
             "pattern": {
              "fillmode": "overlay",
              "size": 10,
              "solidity": 0.2
             }
            },
            "type": "barpolar"
           }
          ],
          "carpet": [
           {
            "aaxis": {
             "endlinecolor": "#2a3f5f",
             "gridcolor": "white",
             "linecolor": "white",
             "minorgridcolor": "white",
             "startlinecolor": "#2a3f5f"
            },
            "baxis": {
             "endlinecolor": "#2a3f5f",
             "gridcolor": "white",
             "linecolor": "white",
             "minorgridcolor": "white",
             "startlinecolor": "#2a3f5f"
            },
            "type": "carpet"
           }
          ],
          "choropleth": [
           {
            "colorbar": {
             "outlinewidth": 0,
             "ticks": ""
            },
            "type": "choropleth"
           }
          ],
          "contour": [
           {
            "colorbar": {
             "outlinewidth": 0,
             "ticks": ""
            },
            "colorscale": [
             [
              0,
              "#0d0887"
             ],
             [
              0.1111111111111111,
              "#46039f"
             ],
             [
              0.2222222222222222,
              "#7201a8"
             ],
             [
              0.3333333333333333,
              "#9c179e"
             ],
             [
              0.4444444444444444,
              "#bd3786"
             ],
             [
              0.5555555555555556,
              "#d8576b"
             ],
             [
              0.6666666666666666,
              "#ed7953"
             ],
             [
              0.7777777777777778,
              "#fb9f3a"
             ],
             [
              0.8888888888888888,
              "#fdca26"
             ],
             [
              1,
              "#f0f921"
             ]
            ],
            "type": "contour"
           }
          ],
          "contourcarpet": [
           {
            "colorbar": {
             "outlinewidth": 0,
             "ticks": ""
            },
            "type": "contourcarpet"
           }
          ],
          "heatmap": [
           {
            "colorbar": {
             "outlinewidth": 0,
             "ticks": ""
            },
            "colorscale": [
             [
              0,
              "#0d0887"
             ],
             [
              0.1111111111111111,
              "#46039f"
             ],
             [
              0.2222222222222222,
              "#7201a8"
             ],
             [
              0.3333333333333333,
              "#9c179e"
             ],
             [
              0.4444444444444444,
              "#bd3786"
             ],
             [
              0.5555555555555556,
              "#d8576b"
             ],
             [
              0.6666666666666666,
              "#ed7953"
             ],
             [
              0.7777777777777778,
              "#fb9f3a"
             ],
             [
              0.8888888888888888,
              "#fdca26"
             ],
             [
              1,
              "#f0f921"
             ]
            ],
            "type": "heatmap"
           }
          ],
          "heatmapgl": [
           {
            "colorbar": {
             "outlinewidth": 0,
             "ticks": ""
            },
            "colorscale": [
             [
              0,
              "#0d0887"
             ],
             [
              0.1111111111111111,
              "#46039f"
             ],
             [
              0.2222222222222222,
              "#7201a8"
             ],
             [
              0.3333333333333333,
              "#9c179e"
             ],
             [
              0.4444444444444444,
              "#bd3786"
             ],
             [
              0.5555555555555556,
              "#d8576b"
             ],
             [
              0.6666666666666666,
              "#ed7953"
             ],
             [
              0.7777777777777778,
              "#fb9f3a"
             ],
             [
              0.8888888888888888,
              "#fdca26"
             ],
             [
              1,
              "#f0f921"
             ]
            ],
            "type": "heatmapgl"
           }
          ],
          "histogram": [
           {
            "marker": {
             "pattern": {
              "fillmode": "overlay",
              "size": 10,
              "solidity": 0.2
             }
            },
            "type": "histogram"
           }
          ],
          "histogram2d": [
           {
            "colorbar": {
             "outlinewidth": 0,
             "ticks": ""
            },
            "colorscale": [
             [
              0,
              "#0d0887"
             ],
             [
              0.1111111111111111,
              "#46039f"
             ],
             [
              0.2222222222222222,
              "#7201a8"
             ],
             [
              0.3333333333333333,
              "#9c179e"
             ],
             [
              0.4444444444444444,
              "#bd3786"
             ],
             [
              0.5555555555555556,
              "#d8576b"
             ],
             [
              0.6666666666666666,
              "#ed7953"
             ],
             [
              0.7777777777777778,
              "#fb9f3a"
             ],
             [
              0.8888888888888888,
              "#fdca26"
             ],
             [
              1,
              "#f0f921"
             ]
            ],
            "type": "histogram2d"
           }
          ],
          "histogram2dcontour": [
           {
            "colorbar": {
             "outlinewidth": 0,
             "ticks": ""
            },
            "colorscale": [
             [
              0,
              "#0d0887"
             ],
             [
              0.1111111111111111,
              "#46039f"
             ],
             [
              0.2222222222222222,
              "#7201a8"
             ],
             [
              0.3333333333333333,
              "#9c179e"
             ],
             [
              0.4444444444444444,
              "#bd3786"
             ],
             [
              0.5555555555555556,
              "#d8576b"
             ],
             [
              0.6666666666666666,
              "#ed7953"
             ],
             [
              0.7777777777777778,
              "#fb9f3a"
             ],
             [
              0.8888888888888888,
              "#fdca26"
             ],
             [
              1,
              "#f0f921"
             ]
            ],
            "type": "histogram2dcontour"
           }
          ],
          "mesh3d": [
           {
            "colorbar": {
             "outlinewidth": 0,
             "ticks": ""
            },
            "type": "mesh3d"
           }
          ],
          "parcoords": [
           {
            "line": {
             "colorbar": {
              "outlinewidth": 0,
              "ticks": ""
             }
            },
            "type": "parcoords"
           }
          ],
          "pie": [
           {
            "automargin": true,
            "type": "pie"
           }
          ],
          "scatter": [
           {
            "fillpattern": {
             "fillmode": "overlay",
             "size": 10,
             "solidity": 0.2
            },
            "type": "scatter"
           }
          ],
          "scatter3d": [
           {
            "line": {
             "colorbar": {
              "outlinewidth": 0,
              "ticks": ""
             }
            },
            "marker": {
             "colorbar": {
              "outlinewidth": 0,
              "ticks": ""
             }
            },
            "type": "scatter3d"
           }
          ],
          "scattercarpet": [
           {
            "marker": {
             "colorbar": {
              "outlinewidth": 0,
              "ticks": ""
             }
            },
            "type": "scattercarpet"
           }
          ],
          "scattergeo": [
           {
            "marker": {
             "colorbar": {
              "outlinewidth": 0,
              "ticks": ""
             }
            },
            "type": "scattergeo"
           }
          ],
          "scattergl": [
           {
            "marker": {
             "colorbar": {
              "outlinewidth": 0,
              "ticks": ""
             }
            },
            "type": "scattergl"
           }
          ],
          "scattermapbox": [
           {
            "marker": {
             "colorbar": {
              "outlinewidth": 0,
              "ticks": ""
             }
            },
            "type": "scattermapbox"
           }
          ],
          "scatterpolar": [
           {
            "marker": {
             "colorbar": {
              "outlinewidth": 0,
              "ticks": ""
             }
            },
            "type": "scatterpolar"
           }
          ],
          "scatterpolargl": [
           {
            "marker": {
             "colorbar": {
              "outlinewidth": 0,
              "ticks": ""
             }
            },
            "type": "scatterpolargl"
           }
          ],
          "scatterternary": [
           {
            "marker": {
             "colorbar": {
              "outlinewidth": 0,
              "ticks": ""
             }
            },
            "type": "scatterternary"
           }
          ],
          "surface": [
           {
            "colorbar": {
             "outlinewidth": 0,
             "ticks": ""
            },
            "colorscale": [
             [
              0,
              "#0d0887"
             ],
             [
              0.1111111111111111,
              "#46039f"
             ],
             [
              0.2222222222222222,
              "#7201a8"
             ],
             [
              0.3333333333333333,
              "#9c179e"
             ],
             [
              0.4444444444444444,
              "#bd3786"
             ],
             [
              0.5555555555555556,
              "#d8576b"
             ],
             [
              0.6666666666666666,
              "#ed7953"
             ],
             [
              0.7777777777777778,
              "#fb9f3a"
             ],
             [
              0.8888888888888888,
              "#fdca26"
             ],
             [
              1,
              "#f0f921"
             ]
            ],
            "type": "surface"
           }
          ],
          "table": [
           {
            "cells": {
             "fill": {
              "color": "#EBF0F8"
             },
             "line": {
              "color": "white"
             }
            },
            "header": {
             "fill": {
              "color": "#C8D4E3"
             },
             "line": {
              "color": "white"
             }
            },
            "type": "table"
           }
          ]
         },
         "layout": {
          "annotationdefaults": {
           "arrowcolor": "#2a3f5f",
           "arrowhead": 0,
           "arrowwidth": 1
          },
          "autotypenumbers": "strict",
          "coloraxis": {
           "colorbar": {
            "outlinewidth": 0,
            "ticks": ""
           }
          },
          "colorscale": {
           "diverging": [
            [
             0,
             "#8e0152"
            ],
            [
             0.1,
             "#c51b7d"
            ],
            [
             0.2,
             "#de77ae"
            ],
            [
             0.3,
             "#f1b6da"
            ],
            [
             0.4,
             "#fde0ef"
            ],
            [
             0.5,
             "#f7f7f7"
            ],
            [
             0.6,
             "#e6f5d0"
            ],
            [
             0.7,
             "#b8e186"
            ],
            [
             0.8,
             "#7fbc41"
            ],
            [
             0.9,
             "#4d9221"
            ],
            [
             1,
             "#276419"
            ]
           ],
           "sequential": [
            [
             0,
             "#0d0887"
            ],
            [
             0.1111111111111111,
             "#46039f"
            ],
            [
             0.2222222222222222,
             "#7201a8"
            ],
            [
             0.3333333333333333,
             "#9c179e"
            ],
            [
             0.4444444444444444,
             "#bd3786"
            ],
            [
             0.5555555555555556,
             "#d8576b"
            ],
            [
             0.6666666666666666,
             "#ed7953"
            ],
            [
             0.7777777777777778,
             "#fb9f3a"
            ],
            [
             0.8888888888888888,
             "#fdca26"
            ],
            [
             1,
             "#f0f921"
            ]
           ],
           "sequentialminus": [
            [
             0,
             "#0d0887"
            ],
            [
             0.1111111111111111,
             "#46039f"
            ],
            [
             0.2222222222222222,
             "#7201a8"
            ],
            [
             0.3333333333333333,
             "#9c179e"
            ],
            [
             0.4444444444444444,
             "#bd3786"
            ],
            [
             0.5555555555555556,
             "#d8576b"
            ],
            [
             0.6666666666666666,
             "#ed7953"
            ],
            [
             0.7777777777777778,
             "#fb9f3a"
            ],
            [
             0.8888888888888888,
             "#fdca26"
            ],
            [
             1,
             "#f0f921"
            ]
           ]
          },
          "colorway": [
           "#636efa",
           "#EF553B",
           "#00cc96",
           "#ab63fa",
           "#FFA15A",
           "#19d3f3",
           "#FF6692",
           "#B6E880",
           "#FF97FF",
           "#FECB52"
          ],
          "font": {
           "color": "#2a3f5f"
          },
          "geo": {
           "bgcolor": "white",
           "lakecolor": "white",
           "landcolor": "#E5ECF6",
           "showlakes": true,
           "showland": true,
           "subunitcolor": "white"
          },
          "hoverlabel": {
           "align": "left"
          },
          "hovermode": "closest",
          "mapbox": {
           "style": "light"
          },
          "paper_bgcolor": "white",
          "plot_bgcolor": "#E5ECF6",
          "polar": {
           "angularaxis": {
            "gridcolor": "white",
            "linecolor": "white",
            "ticks": ""
           },
           "bgcolor": "#E5ECF6",
           "radialaxis": {
            "gridcolor": "white",
            "linecolor": "white",
            "ticks": ""
           }
          },
          "scene": {
           "xaxis": {
            "backgroundcolor": "#E5ECF6",
            "gridcolor": "white",
            "gridwidth": 2,
            "linecolor": "white",
            "showbackground": true,
            "ticks": "",
            "zerolinecolor": "white"
           },
           "yaxis": {
            "backgroundcolor": "#E5ECF6",
            "gridcolor": "white",
            "gridwidth": 2,
            "linecolor": "white",
            "showbackground": true,
            "ticks": "",
            "zerolinecolor": "white"
           },
           "zaxis": {
            "backgroundcolor": "#E5ECF6",
            "gridcolor": "white",
            "gridwidth": 2,
            "linecolor": "white",
            "showbackground": true,
            "ticks": "",
            "zerolinecolor": "white"
           }
          },
          "shapedefaults": {
           "line": {
            "color": "#2a3f5f"
           }
          },
          "ternary": {
           "aaxis": {
            "gridcolor": "white",
            "linecolor": "white",
            "ticks": ""
           },
           "baxis": {
            "gridcolor": "white",
            "linecolor": "white",
            "ticks": ""
           },
           "bgcolor": "#E5ECF6",
           "caxis": {
            "gridcolor": "white",
            "linecolor": "white",
            "ticks": ""
           }
          },
          "title": {
           "x": 0.05
          },
          "xaxis": {
           "automargin": true,
           "gridcolor": "white",
           "linecolor": "white",
           "ticks": "",
           "title": {
            "standoff": 15
           },
           "zerolinecolor": "white",
           "zerolinewidth": 2
          },
          "yaxis": {
           "automargin": true,
           "gridcolor": "white",
           "linecolor": "white",
           "ticks": "",
           "title": {
            "standoff": 15
           },
           "zerolinecolor": "white",
           "zerolinewidth": 2
          }
         }
        },
        "xaxis": {
         "anchor": "y",
         "domain": [
          0,
          1
         ],
         "title": {
          "text": "index"
         }
        },
        "yaxis": {
         "anchor": "x",
         "domain": [
          0,
          1
         ],
         "title": {
          "text": "count"
         }
        }
       }
      }
     },
     "metadata": {},
     "output_type": "display_data"
    }
   ],
   "source": [
    "# Amount of tokens in the entire corpus\n",
    "most_importants = get_top_n_words(df.Review, n=500)\n",
    "print(most_importants.head(10))\n",
    "px.bar(most_importants, x=most_importants.index, y='count')"
   ]
  },
  {
   "cell_type": "code",
   "execution_count": 11,
   "metadata": {
    "colab": {
     "base_uri": "https://localhost:8080/",
     "height": 802
    },
    "id": "61uLLn7O1nb7",
    "outputId": "592a3ed1-d6e9-408b-f0f6-9e11225d71c6"
   },
   "outputs": [
    {
     "name": "stdout",
     "output_type": "stream",
     "text": [
      "       count\n",
      "not    13819\n",
      "hotel  13081\n",
      "room   12331\n",
      "no      5323\n",
      "did     5096\n",
      "good    4664\n",
      "stay    4073\n",
      "rooms   3853\n",
      "staff   3820\n",
      "just    3542\n"
     ]
    },
    {
     "data": {
      "application/vnd.plotly.v1+json": {
       "config": {
        "plotlyServerURL": "https://plot.ly"
       },
       "data": [
        {
         "alignmentgroup": "True",
         "hovertemplate": "index=%{x}<br>count=%{y}<extra></extra>",
         "legendgroup": "",
         "marker": {
          "color": "#636efa",
          "pattern": {
           "shape": ""
          }
         },
         "name": "",
         "offsetgroup": "",
         "orientation": "v",
         "showlegend": false,
         "textposition": "auto",
         "type": "bar",
         "x": [
          "not",
          "hotel",
          "room",
          "no",
          "did",
          "good",
          "stay",
          "rooms",
          "staff",
          "just",
          "night",
          "service",
          "nice",
          "day",
          "great",
          "food",
          "time",
          "beach",
          "like",
          "resort",
          "stayed",
          "location",
          "got",
          "people",
          "place",
          "breakfast",
          "clean",
          "the",
          "pool",
          "really",
          "small",
          "desk",
          "told",
          "water",
          "bed",
          "area",
          "bathroom",
          "went",
          "better",
          "check",
          "little",
          "bad",
          "floor",
          "bar",
          "booked",
          "restaurant",
          "star",
          "ok",
          "said",
          "way",
          "make",
          "days",
          "trip",
          "hotels",
          "price",
          "want",
          "asked",
          "walk",
          "best",
          "say",
          "friendly",
          "nights",
          "restaurants",
          "away",
          "minutes",
          "going",
          "old",
          "lobby",
          "door",
          "view",
          "right",
          "nothing",
          "money",
          "shower",
          "quite",
          "morning",
          "think",
          "experience",
          "buffet",
          "arrived",
          "beautiful",
          "bit",
          "left",
          "problem",
          "10",
          "took",
          "reviews",
          "know",
          "pay",
          "new",
          "need",
          "called",
          "free",
          "use",
          "lot",
          "overall",
          "pretty",
          "week",
          "times",
          "long",
          "beds",
          "work",
          "husband",
          "thing",
          "street",
          "towels",
          "air",
          "things",
          "hot",
          "vacation",
          "guests",
          "open",
          "hours",
          "recommend",
          "sure",
          "helpful",
          "paid",
          "airport",
          "big",
          "reception",
          "came",
          "hour",
          "try",
          "available",
          "eat",
          "drinks",
          "noise",
          "coffee",
          "30",
          "looking",
          "city",
          "far",
          "close",
          "manager",
          "dinner",
          "come",
          "expect",
          "large",
          "outside",
          "thought",
          "staying",
          "does",
          "having",
          "in",
          "internet",
          "main",
          "worth",
          "given",
          "wanted",
          "00",
          "excellent",
          "comfortable",
          "average",
          "wait",
          "problems",
          "fine",
          "we",
          "parking",
          "getting",
          "dirty",
          "look",
          "poor",
          "different",
          "person",
          "early",
          "worst",
          "hard",
          "checked",
          "sleep",
          "20",
          "couple",
          "feel",
          "expensive",
          "building",
          "english",
          "help",
          "cana",
          "extra",
          "felt",
          "rate",
          "probably",
          "punta",
          "ask",
          "later",
          "looked",
          "walking",
          "used",
          "drink",
          "club",
          "tried",
          "finally",
          "reservation",
          "let",
          "tv",
          "travel",
          "rude",
          "home",
          "15",
          "disappointed",
          "actually",
          "late",
          "kids",
          "near",
          "size",
          "terrible",
          "property",
          "second",
          "end",
          "year",
          "high",
          "cold",
          "return",
          "returned",
          "definitely",
          "leave",
          "quality",
          "located",
          "business",
          "evening",
          "charge",
          "station",
          "family",
          "lots",
          "card",
          "read",
          "gave",
          "safe",
          "extremely",
          "phone",
          "ocean",
          "bring",
          "car",
          "tiny",
          "suite",
          "able",
          "standard",
          "bus",
          "noisy",
          "deal",
          "change",
          "needed",
          "book",
          "expected",
          "luggage",
          "horrible",
          "places",
          "saw",
          "ready",
          "speak",
          "minute",
          "reservations",
          "toilet",
          "double",
          "okay",
          "wife",
          "kept",
          "cheap",
          "sick",
          "san",
          "lovely",
          "fact",
          "decent",
          "trying",
          "spent",
          "ca",
          "lunch",
          "especially",
          "fun",
          "line",
          "guest",
          "spanish",
          "quiet",
          "offered",
          "smell",
          "half",
          "arrival",
          "non",
          "short",
          "tell",
          "window",
          "access",
          "resorts",
          "huge",
          "order",
          "holiday",
          "decided",
          "visit",
          "value",
          "working",
          "hear",
          "management",
          "plus",
          "booking",
          "review",
          "point",
          "included",
          "years",
          "children",
          "run",
          "weekend",
          "grounds",
          "special",
          "cleaned",
          "cost",
          "care",
          "website",
          "pleasant",
          "choice",
          "wall",
          "loud",
          "spend",
          "unless",
          "la",
          "yes",
          "concierge",
          "wonderful",
          "waiting",
          "walls",
          "enjoyed",
          "tour",
          "park",
          "shopping",
          "tip",
          "smoking",
          "all",
          "needs",
          "group",
          "offer",
          "moved",
          "dominican",
          "rest",
          "happy",
          "table",
          "housekeeping",
          "flight",
          "course",
          "kind",
          "customer",
          "it",
          "maybe",
          "key",
          "conditioning",
          "pools",
          "charged",
          "seen",
          "site",
          "wrong",
          "entertainment",
          "bars",
          "easy",
          "taxi",
          "warm",
          "broken",
          "chairs",
          "dont",
          "entire",
          "enjoy",
          "guess",
          "french",
          "light",
          "50",
          "start",
          "bath",
          "basic",
          "instead",
          "believe",
          "space",
          "served",
          "dark",
          "plenty",
          "12",
          "worked",
          "absolutely",
          "twice",
          "busy",
          "requested",
          "awful",
          "king",
          "inn",
          "juan",
          "ate",
          "train",
          "distance",
          "bags",
          "real",
          "elevator",
          "prices",
          "there",
          "areas",
          "facilities",
          "credit",
          "mind",
          "central",
          "received",
          "friends",
          "ended",
          "walked",
          "maid",
          "single",
          "party",
          "windows",
          "turned",
          "fresh",
          "11",
          "lounge",
          "ride",
          "coming",
          "certainly",
          "number",
          "inclusive",
          "local",
          "euros",
          "avoid",
          "heard",
          "disappointing",
          "spoke",
          "spa",
          "casino",
          "island",
          "wine",
          "level",
          "set",
          "taken",
          "sheets",
          "hilton",
          "cool",
          "understand",
          "unfortunately",
          "despite",
          "shuttle",
          "center",
          "activities",
          "request",
          "making",
          "furniture",
          "balcony",
          "major",
          "construction",
          "mini",
          "lack",
          "tired",
          "town",
          "changed",
          "doors",
          "didnt",
          "note",
          "so",
          "closed",
          "barcelona",
          "modern",
          "worse",
          "world",
          "started",
          "music",
          "meal",
          "usually",
          "convenient",
          "fruit",
          "house",
          "road",
          "italian",
          "completely",
          "amsterdam",
          "on",
          "pm",
          "cleaning",
          "slow",
          "issue",
          "stop",
          "tub",
          "sun",
          "checking",
          "amazing",
          "overpriced",
          "american",
          "leaving",
          "reason",
          "turn",
          "bottle",
          "carpet",
          "middle",
          "looks",
          "paying",
          "past",
          "including",
          "knew",
          "positive",
          "sit",
          "guy",
          "eating",
          "security",
          "hand",
          "nearby",
          "block",
          "limited",
          "previous",
          "fantastic",
          "floors",
          "upgrade",
          "provided"
         ],
         "xaxis": "x",
         "y": [
          13819,
          13081,
          12331,
          5323,
          5096,
          4664,
          4073,
          3853,
          3820,
          3542,
          3477,
          3267,
          3241,
          3124,
          3020,
          2986,
          2932,
          2881,
          2873,
          2726,
          2608,
          2400,
          2293,
          2255,
          2182,
          2142,
          2117,
          2116,
          2106,
          2072,
          1971,
          1962,
          1753,
          1738,
          1704,
          1630,
          1614,
          1602,
          1597,
          1541,
          1513,
          1510,
          1427,
          1424,
          1408,
          1402,
          1289,
          1284,
          1281,
          1271,
          1256,
          1247,
          1237,
          1204,
          1197,
          1181,
          1176,
          1175,
          1147,
          1143,
          1141,
          1127,
          1126,
          1115,
          1112,
          1092,
          1087,
          1084,
          1070,
          1063,
          1051,
          1049,
          1049,
          1046,
          1046,
          1042,
          1041,
          1040,
          1019,
          1014,
          1009,
          977,
          975,
          972,
          968,
          958,
          934,
          931,
          923,
          914,
          913,
          891,
          891,
          885,
          880,
          874,
          869,
          853,
          852,
          849,
          846,
          838,
          819,
          815,
          813,
          812,
          811,
          807,
          805,
          804,
          803,
          789,
          788,
          788,
          783,
          780,
          779,
          768,
          762,
          754,
          740,
          738,
          731,
          717,
          716,
          713,
          712,
          711,
          707,
          695,
          694,
          694,
          693,
          693,
          688,
          685,
          685,
          683,
          680,
          676,
          671,
          668,
          662,
          661,
          658,
          657,
          653,
          651,
          649,
          642,
          637,
          629,
          626,
          625,
          625,
          624,
          618,
          612,
          611,
          611,
          608,
          607,
          606,
          606,
          606,
          605,
          599,
          597,
          596,
          594,
          591,
          590,
          588,
          588,
          588,
          584,
          580,
          579,
          577,
          575,
          574,
          573,
          573,
          572,
          570,
          567,
          564,
          562,
          562,
          561,
          553,
          543,
          543,
          543,
          534,
          532,
          531,
          531,
          530,
          527,
          526,
          526,
          523,
          523,
          520,
          519,
          518,
          515,
          515,
          510,
          508,
          504,
          501,
          498,
          496,
          495,
          490,
          488,
          481,
          481,
          479,
          478,
          478,
          477,
          475,
          473,
          473,
          473,
          471,
          468,
          465,
          465,
          465,
          465,
          465,
          457,
          456,
          456,
          447,
          446,
          445,
          442,
          438,
          437,
          435,
          434,
          432,
          428,
          425,
          425,
          420,
          419,
          415,
          413,
          412,
          412,
          411,
          411,
          410,
          410,
          409,
          409,
          408,
          407,
          407,
          406,
          406,
          405,
          405,
          403,
          403,
          402,
          400,
          399,
          398,
          398,
          394,
          393,
          391,
          390,
          388,
          386,
          384,
          382,
          380,
          380,
          379,
          379,
          378,
          372,
          372,
          371,
          366,
          365,
          365,
          364,
          361,
          361,
          360,
          359,
          359,
          358,
          355,
          355,
          354,
          354,
          353,
          352,
          350,
          349,
          349,
          349,
          347,
          346,
          344,
          343,
          342,
          342,
          342,
          341,
          341,
          340,
          340,
          340,
          339,
          339,
          338,
          338,
          336,
          336,
          335,
          335,
          335,
          329,
          329,
          328,
          328,
          328,
          326,
          325,
          324,
          322,
          322,
          321,
          321,
          321,
          320,
          319,
          318,
          316,
          315,
          315,
          315,
          314,
          314,
          314,
          313,
          313,
          312,
          311,
          310,
          308,
          308,
          307,
          306,
          305,
          305,
          305,
          305,
          304,
          303,
          303,
          303,
          303,
          302,
          302,
          302,
          300,
          299,
          298,
          298,
          297,
          297,
          296,
          296,
          294,
          294,
          294,
          294,
          293,
          292,
          291,
          291,
          290,
          289,
          289,
          289,
          288,
          287,
          287,
          287,
          287,
          287,
          287,
          285,
          283,
          283,
          283,
          282,
          281,
          281,
          280,
          278,
          278,
          277,
          277,
          274,
          274,
          274,
          271,
          266,
          266,
          266,
          266,
          265,
          264,
          263,
          262,
          261,
          261,
          260,
          260,
          260,
          260,
          258,
          257,
          257,
          257,
          256,
          256,
          256,
          256,
          256,
          255,
          255,
          255,
          254,
          254,
          253,
          253,
          253,
          253,
          253,
          251,
          250,
          249,
          249,
          249,
          248,
          248,
          248,
          247,
          247,
          246,
          246,
          245,
          244,
          244,
          244,
          243,
          242,
          241,
          241,
          240,
          240,
          239,
          239,
          238,
          238,
          238,
          238,
          237,
          236,
          236,
          235,
          234,
          234,
          234,
          234,
          233,
          233,
          233,
          232,
          232,
          232,
          231,
          231,
          231,
          231,
          229
         ],
         "yaxis": "y"
        }
       ],
       "layout": {
        "barmode": "relative",
        "legend": {
         "tracegroupgap": 0
        },
        "margin": {
         "t": 60
        },
        "template": {
         "data": {
          "bar": [
           {
            "error_x": {
             "color": "#2a3f5f"
            },
            "error_y": {
             "color": "#2a3f5f"
            },
            "marker": {
             "line": {
              "color": "#E5ECF6",
              "width": 0.5
             },
             "pattern": {
              "fillmode": "overlay",
              "size": 10,
              "solidity": 0.2
             }
            },
            "type": "bar"
           }
          ],
          "barpolar": [
           {
            "marker": {
             "line": {
              "color": "#E5ECF6",
              "width": 0.5
             },
             "pattern": {
              "fillmode": "overlay",
              "size": 10,
              "solidity": 0.2
             }
            },
            "type": "barpolar"
           }
          ],
          "carpet": [
           {
            "aaxis": {
             "endlinecolor": "#2a3f5f",
             "gridcolor": "white",
             "linecolor": "white",
             "minorgridcolor": "white",
             "startlinecolor": "#2a3f5f"
            },
            "baxis": {
             "endlinecolor": "#2a3f5f",
             "gridcolor": "white",
             "linecolor": "white",
             "minorgridcolor": "white",
             "startlinecolor": "#2a3f5f"
            },
            "type": "carpet"
           }
          ],
          "choropleth": [
           {
            "colorbar": {
             "outlinewidth": 0,
             "ticks": ""
            },
            "type": "choropleth"
           }
          ],
          "contour": [
           {
            "colorbar": {
             "outlinewidth": 0,
             "ticks": ""
            },
            "colorscale": [
             [
              0,
              "#0d0887"
             ],
             [
              0.1111111111111111,
              "#46039f"
             ],
             [
              0.2222222222222222,
              "#7201a8"
             ],
             [
              0.3333333333333333,
              "#9c179e"
             ],
             [
              0.4444444444444444,
              "#bd3786"
             ],
             [
              0.5555555555555556,
              "#d8576b"
             ],
             [
              0.6666666666666666,
              "#ed7953"
             ],
             [
              0.7777777777777778,
              "#fb9f3a"
             ],
             [
              0.8888888888888888,
              "#fdca26"
             ],
             [
              1,
              "#f0f921"
             ]
            ],
            "type": "contour"
           }
          ],
          "contourcarpet": [
           {
            "colorbar": {
             "outlinewidth": 0,
             "ticks": ""
            },
            "type": "contourcarpet"
           }
          ],
          "heatmap": [
           {
            "colorbar": {
             "outlinewidth": 0,
             "ticks": ""
            },
            "colorscale": [
             [
              0,
              "#0d0887"
             ],
             [
              0.1111111111111111,
              "#46039f"
             ],
             [
              0.2222222222222222,
              "#7201a8"
             ],
             [
              0.3333333333333333,
              "#9c179e"
             ],
             [
              0.4444444444444444,
              "#bd3786"
             ],
             [
              0.5555555555555556,
              "#d8576b"
             ],
             [
              0.6666666666666666,
              "#ed7953"
             ],
             [
              0.7777777777777778,
              "#fb9f3a"
             ],
             [
              0.8888888888888888,
              "#fdca26"
             ],
             [
              1,
              "#f0f921"
             ]
            ],
            "type": "heatmap"
           }
          ],
          "heatmapgl": [
           {
            "colorbar": {
             "outlinewidth": 0,
             "ticks": ""
            },
            "colorscale": [
             [
              0,
              "#0d0887"
             ],
             [
              0.1111111111111111,
              "#46039f"
             ],
             [
              0.2222222222222222,
              "#7201a8"
             ],
             [
              0.3333333333333333,
              "#9c179e"
             ],
             [
              0.4444444444444444,
              "#bd3786"
             ],
             [
              0.5555555555555556,
              "#d8576b"
             ],
             [
              0.6666666666666666,
              "#ed7953"
             ],
             [
              0.7777777777777778,
              "#fb9f3a"
             ],
             [
              0.8888888888888888,
              "#fdca26"
             ],
             [
              1,
              "#f0f921"
             ]
            ],
            "type": "heatmapgl"
           }
          ],
          "histogram": [
           {
            "marker": {
             "pattern": {
              "fillmode": "overlay",
              "size": 10,
              "solidity": 0.2
             }
            },
            "type": "histogram"
           }
          ],
          "histogram2d": [
           {
            "colorbar": {
             "outlinewidth": 0,
             "ticks": ""
            },
            "colorscale": [
             [
              0,
              "#0d0887"
             ],
             [
              0.1111111111111111,
              "#46039f"
             ],
             [
              0.2222222222222222,
              "#7201a8"
             ],
             [
              0.3333333333333333,
              "#9c179e"
             ],
             [
              0.4444444444444444,
              "#bd3786"
             ],
             [
              0.5555555555555556,
              "#d8576b"
             ],
             [
              0.6666666666666666,
              "#ed7953"
             ],
             [
              0.7777777777777778,
              "#fb9f3a"
             ],
             [
              0.8888888888888888,
              "#fdca26"
             ],
             [
              1,
              "#f0f921"
             ]
            ],
            "type": "histogram2d"
           }
          ],
          "histogram2dcontour": [
           {
            "colorbar": {
             "outlinewidth": 0,
             "ticks": ""
            },
            "colorscale": [
             [
              0,
              "#0d0887"
             ],
             [
              0.1111111111111111,
              "#46039f"
             ],
             [
              0.2222222222222222,
              "#7201a8"
             ],
             [
              0.3333333333333333,
              "#9c179e"
             ],
             [
              0.4444444444444444,
              "#bd3786"
             ],
             [
              0.5555555555555556,
              "#d8576b"
             ],
             [
              0.6666666666666666,
              "#ed7953"
             ],
             [
              0.7777777777777778,
              "#fb9f3a"
             ],
             [
              0.8888888888888888,
              "#fdca26"
             ],
             [
              1,
              "#f0f921"
             ]
            ],
            "type": "histogram2dcontour"
           }
          ],
          "mesh3d": [
           {
            "colorbar": {
             "outlinewidth": 0,
             "ticks": ""
            },
            "type": "mesh3d"
           }
          ],
          "parcoords": [
           {
            "line": {
             "colorbar": {
              "outlinewidth": 0,
              "ticks": ""
             }
            },
            "type": "parcoords"
           }
          ],
          "pie": [
           {
            "automargin": true,
            "type": "pie"
           }
          ],
          "scatter": [
           {
            "fillpattern": {
             "fillmode": "overlay",
             "size": 10,
             "solidity": 0.2
            },
            "type": "scatter"
           }
          ],
          "scatter3d": [
           {
            "line": {
             "colorbar": {
              "outlinewidth": 0,
              "ticks": ""
             }
            },
            "marker": {
             "colorbar": {
              "outlinewidth": 0,
              "ticks": ""
             }
            },
            "type": "scatter3d"
           }
          ],
          "scattercarpet": [
           {
            "marker": {
             "colorbar": {
              "outlinewidth": 0,
              "ticks": ""
             }
            },
            "type": "scattercarpet"
           }
          ],
          "scattergeo": [
           {
            "marker": {
             "colorbar": {
              "outlinewidth": 0,
              "ticks": ""
             }
            },
            "type": "scattergeo"
           }
          ],
          "scattergl": [
           {
            "marker": {
             "colorbar": {
              "outlinewidth": 0,
              "ticks": ""
             }
            },
            "type": "scattergl"
           }
          ],
          "scattermapbox": [
           {
            "marker": {
             "colorbar": {
              "outlinewidth": 0,
              "ticks": ""
             }
            },
            "type": "scattermapbox"
           }
          ],
          "scatterpolar": [
           {
            "marker": {
             "colorbar": {
              "outlinewidth": 0,
              "ticks": ""
             }
            },
            "type": "scatterpolar"
           }
          ],
          "scatterpolargl": [
           {
            "marker": {
             "colorbar": {
              "outlinewidth": 0,
              "ticks": ""
             }
            },
            "type": "scatterpolargl"
           }
          ],
          "scatterternary": [
           {
            "marker": {
             "colorbar": {
              "outlinewidth": 0,
              "ticks": ""
             }
            },
            "type": "scatterternary"
           }
          ],
          "surface": [
           {
            "colorbar": {
             "outlinewidth": 0,
             "ticks": ""
            },
            "colorscale": [
             [
              0,
              "#0d0887"
             ],
             [
              0.1111111111111111,
              "#46039f"
             ],
             [
              0.2222222222222222,
              "#7201a8"
             ],
             [
              0.3333333333333333,
              "#9c179e"
             ],
             [
              0.4444444444444444,
              "#bd3786"
             ],
             [
              0.5555555555555556,
              "#d8576b"
             ],
             [
              0.6666666666666666,
              "#ed7953"
             ],
             [
              0.7777777777777778,
              "#fb9f3a"
             ],
             [
              0.8888888888888888,
              "#fdca26"
             ],
             [
              1,
              "#f0f921"
             ]
            ],
            "type": "surface"
           }
          ],
          "table": [
           {
            "cells": {
             "fill": {
              "color": "#EBF0F8"
             },
             "line": {
              "color": "white"
             }
            },
            "header": {
             "fill": {
              "color": "#C8D4E3"
             },
             "line": {
              "color": "white"
             }
            },
            "type": "table"
           }
          ]
         },
         "layout": {
          "annotationdefaults": {
           "arrowcolor": "#2a3f5f",
           "arrowhead": 0,
           "arrowwidth": 1
          },
          "autotypenumbers": "strict",
          "coloraxis": {
           "colorbar": {
            "outlinewidth": 0,
            "ticks": ""
           }
          },
          "colorscale": {
           "diverging": [
            [
             0,
             "#8e0152"
            ],
            [
             0.1,
             "#c51b7d"
            ],
            [
             0.2,
             "#de77ae"
            ],
            [
             0.3,
             "#f1b6da"
            ],
            [
             0.4,
             "#fde0ef"
            ],
            [
             0.5,
             "#f7f7f7"
            ],
            [
             0.6,
             "#e6f5d0"
            ],
            [
             0.7,
             "#b8e186"
            ],
            [
             0.8,
             "#7fbc41"
            ],
            [
             0.9,
             "#4d9221"
            ],
            [
             1,
             "#276419"
            ]
           ],
           "sequential": [
            [
             0,
             "#0d0887"
            ],
            [
             0.1111111111111111,
             "#46039f"
            ],
            [
             0.2222222222222222,
             "#7201a8"
            ],
            [
             0.3333333333333333,
             "#9c179e"
            ],
            [
             0.4444444444444444,
             "#bd3786"
            ],
            [
             0.5555555555555556,
             "#d8576b"
            ],
            [
             0.6666666666666666,
             "#ed7953"
            ],
            [
             0.7777777777777778,
             "#fb9f3a"
            ],
            [
             0.8888888888888888,
             "#fdca26"
            ],
            [
             1,
             "#f0f921"
            ]
           ],
           "sequentialminus": [
            [
             0,
             "#0d0887"
            ],
            [
             0.1111111111111111,
             "#46039f"
            ],
            [
             0.2222222222222222,
             "#7201a8"
            ],
            [
             0.3333333333333333,
             "#9c179e"
            ],
            [
             0.4444444444444444,
             "#bd3786"
            ],
            [
             0.5555555555555556,
             "#d8576b"
            ],
            [
             0.6666666666666666,
             "#ed7953"
            ],
            [
             0.7777777777777778,
             "#fb9f3a"
            ],
            [
             0.8888888888888888,
             "#fdca26"
            ],
            [
             1,
             "#f0f921"
            ]
           ]
          },
          "colorway": [
           "#636efa",
           "#EF553B",
           "#00cc96",
           "#ab63fa",
           "#FFA15A",
           "#19d3f3",
           "#FF6692",
           "#B6E880",
           "#FF97FF",
           "#FECB52"
          ],
          "font": {
           "color": "#2a3f5f"
          },
          "geo": {
           "bgcolor": "white",
           "lakecolor": "white",
           "landcolor": "#E5ECF6",
           "showlakes": true,
           "showland": true,
           "subunitcolor": "white"
          },
          "hoverlabel": {
           "align": "left"
          },
          "hovermode": "closest",
          "mapbox": {
           "style": "light"
          },
          "paper_bgcolor": "white",
          "plot_bgcolor": "#E5ECF6",
          "polar": {
           "angularaxis": {
            "gridcolor": "white",
            "linecolor": "white",
            "ticks": ""
           },
           "bgcolor": "#E5ECF6",
           "radialaxis": {
            "gridcolor": "white",
            "linecolor": "white",
            "ticks": ""
           }
          },
          "scene": {
           "xaxis": {
            "backgroundcolor": "#E5ECF6",
            "gridcolor": "white",
            "gridwidth": 2,
            "linecolor": "white",
            "showbackground": true,
            "ticks": "",
            "zerolinecolor": "white"
           },
           "yaxis": {
            "backgroundcolor": "#E5ECF6",
            "gridcolor": "white",
            "gridwidth": 2,
            "linecolor": "white",
            "showbackground": true,
            "ticks": "",
            "zerolinecolor": "white"
           },
           "zaxis": {
            "backgroundcolor": "#E5ECF6",
            "gridcolor": "white",
            "gridwidth": 2,
            "linecolor": "white",
            "showbackground": true,
            "ticks": "",
            "zerolinecolor": "white"
           }
          },
          "shapedefaults": {
           "line": {
            "color": "#2a3f5f"
           }
          },
          "ternary": {
           "aaxis": {
            "gridcolor": "white",
            "linecolor": "white",
            "ticks": ""
           },
           "baxis": {
            "gridcolor": "white",
            "linecolor": "white",
            "ticks": ""
           },
           "bgcolor": "#E5ECF6",
           "caxis": {
            "gridcolor": "white",
            "linecolor": "white",
            "ticks": ""
           }
          },
          "title": {
           "x": 0.05
          },
          "xaxis": {
           "automargin": true,
           "gridcolor": "white",
           "linecolor": "white",
           "ticks": "",
           "title": {
            "standoff": 15
           },
           "zerolinecolor": "white",
           "zerolinewidth": 2
          },
          "yaxis": {
           "automargin": true,
           "gridcolor": "white",
           "linecolor": "white",
           "ticks": "",
           "title": {
            "standoff": 15
           },
           "zerolinecolor": "white",
           "zerolinewidth": 2
          }
         }
        },
        "xaxis": {
         "anchor": "y",
         "domain": [
          0,
          1
         ],
         "title": {
          "text": "index"
         }
        },
        "yaxis": {
         "anchor": "x",
         "domain": [
          0,
          1
         ],
         "title": {
          "text": "count"
         }
        }
       }
      }
     },
     "metadata": {},
     "output_type": "display_data"
    }
   ],
   "source": [
    "# Amount of tokens for Detractors\n",
    "most_importants = get_top_n_words(df[df.Cluster == 0].Review, n=500)\n",
    "detractores = set(most_importants.index[:100])\n",
    "print(most_importants.head(10))\n",
    "px.bar(most_importants, x=most_importants.index, y='count')"
   ]
  },
  {
   "cell_type": "code",
   "execution_count": 12,
   "metadata": {
    "colab": {
     "base_uri": "https://localhost:8080/",
     "height": 802
    },
    "id": "q7bBSDeD19h0",
    "outputId": "2cf31050-881d-4d38-b6b1-3c968be95926"
   },
   "outputs": [
    {
     "name": "stdout",
     "output_type": "stream",
     "text": [
      "          count\n",
      "hotel     36733\n",
      "room      23000\n",
      "great     18455\n",
      "not       17890\n",
      "staff     12813\n",
      "good      12748\n",
      "stay      11338\n",
      "nice       9402\n",
      "just       9125\n",
      "location   8951\n"
     ]
    },
    {
     "data": {
      "application/vnd.plotly.v1+json": {
       "config": {
        "plotlyServerURL": "https://plot.ly"
       },
       "data": [
        {
         "alignmentgroup": "True",
         "hovertemplate": "index=%{x}<br>count=%{y}<extra></extra>",
         "legendgroup": "",
         "marker": {
          "color": "#636efa",
          "pattern": {
           "shape": ""
          }
         },
         "name": "",
         "offsetgroup": "",
         "orientation": "v",
         "showlegend": false,
         "textposition": "auto",
         "type": "bar",
         "x": [
          "hotel",
          "room",
          "great",
          "not",
          "staff",
          "good",
          "stay",
          "nice",
          "just",
          "location",
          "did",
          "rooms",
          "stayed",
          "breakfast",
          "clean",
          "time",
          "beach",
          "service",
          "day",
          "night",
          "no",
          "food",
          "friendly",
          "really",
          "place",
          "excellent",
          "the",
          "pool",
          "resort",
          "like",
          "walk",
          "helpful",
          "little",
          "small",
          "best",
          "people",
          "area",
          "bar",
          "recommend",
          "restaurants",
          "restaurant",
          "comfortable",
          "got",
          "trip",
          "wonderful",
          "beautiful",
          "view",
          "bathroom",
          "city",
          "water",
          "free",
          "bed",
          "floor",
          "nights",
          "right",
          "went",
          "large",
          "loved",
          "want",
          "away",
          "hotels",
          "street",
          "way",
          "bit",
          "reviews",
          "make",
          "fantastic",
          "check",
          "perfect",
          "price",
          "definitely",
          "lovely",
          "new",
          "minutes",
          "buffet",
          "better",
          "desk",
          "quite",
          "10",
          "close",
          "quiet",
          "booked",
          "say",
          "lobby",
          "walking",
          "experience",
          "big",
          "airport",
          "days",
          "we",
          "morning",
          "station",
          "going",
          "enjoyed",
          "week",
          "problem",
          "value",
          "lot",
          "shower",
          "took",
          "times",
          "need",
          "overall",
          "amazing",
          "drinks",
          "sure",
          "coffee",
          "think",
          "use",
          "worth",
          "husband",
          "located",
          "beds",
          "long",
          "easy",
          "arrived",
          "vacation",
          "modern",
          "dinner",
          "eat",
          "staying",
          "fun",
          "bus",
          "lots",
          "main",
          "old",
          "feel",
          "visit",
          "money",
          "highly",
          "return",
          "home",
          "pretty",
          "looking",
          "minute",
          "family",
          "try",
          "door",
          "english",
          "shopping",
          "internet",
          "spacious",
          "kids",
          "left",
          "huge",
          "know",
          "extremely",
          "outside",
          "suite",
          "things",
          "year",
          "club",
          "size",
          "couple",
          "plenty",
          "hot",
          "thing",
          "noise",
          "early",
          "distance",
          "near",
          "ca",
          "especially",
          "far",
          "wanted",
          "different",
          "in",
          "evening",
          "star",
          "tv",
          "expensive",
          "returned",
          "choice",
          "bad",
          "fine",
          "end",
          "open",
          "high",
          "square",
          "having",
          "come",
          "spent",
          "short",
          "car",
          "reception",
          "available",
          "felt",
          "happy",
          "ocean",
          "used",
          "places",
          "pleasant",
          "extra",
          "access",
          "san",
          "ask",
          "guests",
          "getting",
          "included",
          "nothing",
          "30",
          "metro",
          "business",
          "safe",
          "hard",
          "fresh",
          "said",
          "air",
          "wife",
          "drink",
          "central",
          "asked",
          "thought",
          "able",
          "hour",
          "cana",
          "punta",
          "building",
          "ate",
          "book",
          "la",
          "enjoy",
          "absolutely",
          "read",
          "came",
          "rate",
          "paris",
          "towels",
          "15",
          "tour",
          "quality",
          "work",
          "wait",
          "lounge",
          "weekend",
          "park",
          "barcelona",
          "views",
          "20",
          "late",
          "parking",
          "hours",
          "help",
          "lunch",
          "train",
          "travel",
          "fabulous",
          "expect",
          "does",
          "bars",
          "deal",
          "stop",
          "wine",
          "florence",
          "special",
          "pay",
          "taxi",
          "second",
          "friends",
          "convenient",
          "shops",
          "look",
          "holiday",
          "gave",
          "ok",
          "needed",
          "french",
          "probably",
          "ride",
          "bring",
          "leave",
          "spa",
          "local",
          "concierge",
          "standard",
          "balcony",
          "told",
          "amsterdam",
          "corner",
          "love",
          "fruit",
          "paid",
          "actually",
          "grounds",
          "kept",
          "bath",
          "including",
          "problems",
          "chairs",
          "space",
          "entertainment",
          "center",
          "block",
          "double",
          "person",
          "warm",
          "blocks",
          "plus",
          "town",
          "looked",
          "yes",
          "busy",
          "tip",
          "real",
          "areas",
          "given",
          "world",
          "island",
          "reservations",
          "cold",
          "liked",
          "called",
          "awesome",
          "spanish",
          "it",
          "road",
          "mini",
          "luggage",
          "children",
          "provided",
          "centre",
          "tea",
          "recommended",
          "relaxing",
          "checked",
          "walked",
          "certainly",
          "cost",
          "nearby",
          "00",
          "ready",
          "property",
          "years",
          "euros",
          "all",
          "line",
          "arrival",
          "pools",
          "king",
          "let",
          "facilities",
          "house",
          "prices",
          "reading",
          "flight",
          "market",
          "offered",
          "decorated",
          "disappointed",
          "speak",
          "quick",
          "fact",
          "italian",
          "meal",
          "saw",
          "selection",
          "activities",
          "cool",
          "style",
          "light",
          "cheap",
          "reasonable",
          "london",
          "site",
          "tourist",
          "booking",
          "served",
          "expected",
          "superb",
          "decor",
          "tried",
          "making",
          "table",
          "start",
          "met",
          "there",
          "sun",
          "cafe",
          "course",
          "honeymoon",
          "worked",
          "upgraded",
          "variety",
          "spend",
          "windows",
          "kind",
          "complimentary",
          "group",
          "bedroom",
          "bathrooms",
          "charge",
          "downtown",
          "set",
          "shuttle",
          "decided",
          "sleep",
          "weather",
          "york",
          "negative",
          "dominican",
          "half",
          "resorts",
          "inn",
          "juan",
          "shows",
          "welcome",
          "impressed",
          "music",
          "efficient",
          "daily",
          "review",
          "brought",
          "offer",
          "major",
          "definately",
          "average",
          "dining",
          "mind",
          "rest",
          "touch",
          "12",
          "grand",
          "st",
          "decent",
          "hear",
          "gorgeous",
          "website",
          "seen",
          "tower",
          "order",
          "delicious",
          "afternoon",
          "choose",
          "care",
          "white",
          "tub",
          "window",
          "chose",
          "remember",
          "palace",
          "relax",
          "american",
          "super",
          "run",
          "atmosphere",
          "fridge",
          "twice",
          "amenities",
          "pleased",
          "attractions",
          "priced",
          "later",
          "complaint",
          "plaza",
          "change",
          "level",
          "swim",
          "sand",
          "subway",
          "daughter",
          "noisy",
          "truly",
          "maybe",
          "glass",
          "shop",
          "11",
          "mins",
          "bali",
          "overlooking",
          "taken",
          "suites",
          "outstanding",
          "surprised",
          "break",
          "50",
          "private",
          "note",
          "nicely",
          "quickly",
          "working",
          "japanese",
          "country",
          "usually",
          "garden",
          "sit",
          "entire",
          "ramblas",
          "bags",
          "spoke",
          "buy",
          "24",
          "well",
          "believe",
          "menu",
          "taking",
          "heard",
          "recently",
          "casino",
          "polite",
          "royal"
         ],
         "xaxis": "x",
         "y": [
          36733,
          23000,
          18455,
          17890,
          12813,
          12748,
          11338,
          9402,
          9125,
          8951,
          8910,
          8548,
          7892,
          7595,
          7480,
          7188,
          7180,
          7100,
          6843,
          6674,
          6523,
          6426,
          5752,
          5718,
          5609,
          5556,
          5488,
          5471,
          5413,
          5381,
          5080,
          4925,
          4747,
          4624,
          4603,
          4581,
          4486,
          4149,
          4077,
          4016,
          3932,
          3928,
          3913,
          3784,
          3764,
          3725,
          3666,
          3489,
          3442,
          3298,
          3296,
          3295,
          3266,
          3262,
          3241,
          3078,
          3075,
          3055,
          3018,
          3002,
          2956,
          2929,
          2924,
          2903,
          2847,
          2824,
          2802,
          2787,
          2732,
          2682,
          2667,
          2639,
          2638,
          2585,
          2582,
          2556,
          2512,
          2511,
          2502,
          2500,
          2492,
          2486,
          2433,
          2383,
          2345,
          2314,
          2292,
          2291,
          2233,
          2204,
          2197,
          2169,
          2163,
          2117,
          2052,
          2050,
          2029,
          2018,
          2005,
          1994,
          1992,
          1984,
          1968,
          1967,
          1938,
          1936,
          1933,
          1915,
          1915,
          1899,
          1896,
          1891,
          1878,
          1866,
          1864,
          1854,
          1826,
          1810,
          1788,
          1785,
          1782,
          1772,
          1769,
          1762,
          1731,
          1700,
          1689,
          1685,
          1682,
          1680,
          1678,
          1677,
          1666,
          1660,
          1658,
          1651,
          1651,
          1650,
          1647,
          1645,
          1639,
          1626,
          1617,
          1613,
          1603,
          1599,
          1579,
          1568,
          1566,
          1560,
          1559,
          1540,
          1539,
          1539,
          1534,
          1525,
          1525,
          1516,
          1502,
          1489,
          1486,
          1483,
          1481,
          1481,
          1473,
          1461,
          1438,
          1435,
          1432,
          1425,
          1410,
          1407,
          1407,
          1401,
          1384,
          1384,
          1381,
          1360,
          1360,
          1343,
          1340,
          1339,
          1331,
          1322,
          1312,
          1308,
          1301,
          1299,
          1295,
          1293,
          1289,
          1286,
          1285,
          1281,
          1279,
          1269,
          1267,
          1265,
          1261,
          1261,
          1260,
          1259,
          1258,
          1253,
          1248,
          1246,
          1245,
          1242,
          1239,
          1231,
          1218,
          1214,
          1209,
          1206,
          1206,
          1195,
          1193,
          1181,
          1179,
          1179,
          1174,
          1173,
          1172,
          1170,
          1157,
          1156,
          1154,
          1142,
          1135,
          1132,
          1129,
          1128,
          1118,
          1113,
          1106,
          1099,
          1098,
          1095,
          1086,
          1084,
          1079,
          1078,
          1073,
          1070,
          1069,
          1066,
          1066,
          1063,
          1059,
          1050,
          1040,
          1028,
          1024,
          1018,
          1018,
          1017,
          1012,
          1011,
          1009,
          1005,
          999,
          998,
          996,
          992,
          990,
          989,
          981,
          980,
          978,
          976,
          970,
          958,
          958,
          955,
          949,
          944,
          935,
          933,
          930,
          929,
          926,
          923,
          921,
          919,
          915,
          912,
          906,
          906,
          905,
          901,
          892,
          892,
          892,
          890,
          889,
          887,
          878,
          877,
          872,
          867,
          867,
          862,
          858,
          856,
          856,
          855,
          854,
          851,
          841,
          836,
          833,
          831,
          830,
          830,
          830,
          827,
          826,
          825,
          824,
          822,
          821,
          819,
          817,
          817,
          815,
          808,
          808,
          808,
          806,
          802,
          797,
          797,
          792,
          791,
          791,
          790,
          785,
          781,
          779,
          762,
          758,
          757,
          757,
          755,
          751,
          749,
          748,
          745,
          744,
          741,
          737,
          734,
          729,
          724,
          722,
          721,
          721,
          720,
          720,
          717,
          716,
          709,
          709,
          708,
          708,
          707,
          706,
          696,
          695,
          693,
          690,
          688,
          685,
          684,
          683,
          682,
          680,
          676,
          676,
          676,
          673,
          672,
          671,
          665,
          665,
          663,
          663,
          662,
          662,
          661,
          659,
          657,
          654,
          653,
          650,
          649,
          649,
          648,
          646,
          637,
          637,
          635,
          635,
          635,
          632,
          631,
          631,
          630,
          627,
          627,
          627,
          625,
          624,
          622,
          622,
          622,
          621,
          621,
          621,
          619,
          619,
          619,
          618,
          617,
          617,
          614,
          608,
          606,
          603,
          601,
          600,
          600,
          600,
          599,
          596,
          596,
          595,
          595,
          594,
          594,
          593,
          592,
          590,
          588,
          587,
          585,
          580,
          580,
          578,
          575,
          574,
          574,
          574,
          571,
          570,
          569,
          569,
          563,
          562,
          562,
          561,
          560,
          560,
          560,
          558,
          552,
          552,
          552,
          551,
          549,
          546,
          545,
          545,
          542,
          541,
          541,
          539,
          536,
          536,
          534,
          534,
          534,
          533,
          532,
          532,
          532,
          531,
          530,
          530,
          528,
          528,
          527,
          527,
          527,
          526,
          526,
          526,
          526,
          526,
          525
         ],
         "yaxis": "y"
        }
       ],
       "layout": {
        "barmode": "relative",
        "legend": {
         "tracegroupgap": 0
        },
        "margin": {
         "t": 60
        },
        "template": {
         "data": {
          "bar": [
           {
            "error_x": {
             "color": "#2a3f5f"
            },
            "error_y": {
             "color": "#2a3f5f"
            },
            "marker": {
             "line": {
              "color": "#E5ECF6",
              "width": 0.5
             },
             "pattern": {
              "fillmode": "overlay",
              "size": 10,
              "solidity": 0.2
             }
            },
            "type": "bar"
           }
          ],
          "barpolar": [
           {
            "marker": {
             "line": {
              "color": "#E5ECF6",
              "width": 0.5
             },
             "pattern": {
              "fillmode": "overlay",
              "size": 10,
              "solidity": 0.2
             }
            },
            "type": "barpolar"
           }
          ],
          "carpet": [
           {
            "aaxis": {
             "endlinecolor": "#2a3f5f",
             "gridcolor": "white",
             "linecolor": "white",
             "minorgridcolor": "white",
             "startlinecolor": "#2a3f5f"
            },
            "baxis": {
             "endlinecolor": "#2a3f5f",
             "gridcolor": "white",
             "linecolor": "white",
             "minorgridcolor": "white",
             "startlinecolor": "#2a3f5f"
            },
            "type": "carpet"
           }
          ],
          "choropleth": [
           {
            "colorbar": {
             "outlinewidth": 0,
             "ticks": ""
            },
            "type": "choropleth"
           }
          ],
          "contour": [
           {
            "colorbar": {
             "outlinewidth": 0,
             "ticks": ""
            },
            "colorscale": [
             [
              0,
              "#0d0887"
             ],
             [
              0.1111111111111111,
              "#46039f"
             ],
             [
              0.2222222222222222,
              "#7201a8"
             ],
             [
              0.3333333333333333,
              "#9c179e"
             ],
             [
              0.4444444444444444,
              "#bd3786"
             ],
             [
              0.5555555555555556,
              "#d8576b"
             ],
             [
              0.6666666666666666,
              "#ed7953"
             ],
             [
              0.7777777777777778,
              "#fb9f3a"
             ],
             [
              0.8888888888888888,
              "#fdca26"
             ],
             [
              1,
              "#f0f921"
             ]
            ],
            "type": "contour"
           }
          ],
          "contourcarpet": [
           {
            "colorbar": {
             "outlinewidth": 0,
             "ticks": ""
            },
            "type": "contourcarpet"
           }
          ],
          "heatmap": [
           {
            "colorbar": {
             "outlinewidth": 0,
             "ticks": ""
            },
            "colorscale": [
             [
              0,
              "#0d0887"
             ],
             [
              0.1111111111111111,
              "#46039f"
             ],
             [
              0.2222222222222222,
              "#7201a8"
             ],
             [
              0.3333333333333333,
              "#9c179e"
             ],
             [
              0.4444444444444444,
              "#bd3786"
             ],
             [
              0.5555555555555556,
              "#d8576b"
             ],
             [
              0.6666666666666666,
              "#ed7953"
             ],
             [
              0.7777777777777778,
              "#fb9f3a"
             ],
             [
              0.8888888888888888,
              "#fdca26"
             ],
             [
              1,
              "#f0f921"
             ]
            ],
            "type": "heatmap"
           }
          ],
          "heatmapgl": [
           {
            "colorbar": {
             "outlinewidth": 0,
             "ticks": ""
            },
            "colorscale": [
             [
              0,
              "#0d0887"
             ],
             [
              0.1111111111111111,
              "#46039f"
             ],
             [
              0.2222222222222222,
              "#7201a8"
             ],
             [
              0.3333333333333333,
              "#9c179e"
             ],
             [
              0.4444444444444444,
              "#bd3786"
             ],
             [
              0.5555555555555556,
              "#d8576b"
             ],
             [
              0.6666666666666666,
              "#ed7953"
             ],
             [
              0.7777777777777778,
              "#fb9f3a"
             ],
             [
              0.8888888888888888,
              "#fdca26"
             ],
             [
              1,
              "#f0f921"
             ]
            ],
            "type": "heatmapgl"
           }
          ],
          "histogram": [
           {
            "marker": {
             "pattern": {
              "fillmode": "overlay",
              "size": 10,
              "solidity": 0.2
             }
            },
            "type": "histogram"
           }
          ],
          "histogram2d": [
           {
            "colorbar": {
             "outlinewidth": 0,
             "ticks": ""
            },
            "colorscale": [
             [
              0,
              "#0d0887"
             ],
             [
              0.1111111111111111,
              "#46039f"
             ],
             [
              0.2222222222222222,
              "#7201a8"
             ],
             [
              0.3333333333333333,
              "#9c179e"
             ],
             [
              0.4444444444444444,
              "#bd3786"
             ],
             [
              0.5555555555555556,
              "#d8576b"
             ],
             [
              0.6666666666666666,
              "#ed7953"
             ],
             [
              0.7777777777777778,
              "#fb9f3a"
             ],
             [
              0.8888888888888888,
              "#fdca26"
             ],
             [
              1,
              "#f0f921"
             ]
            ],
            "type": "histogram2d"
           }
          ],
          "histogram2dcontour": [
           {
            "colorbar": {
             "outlinewidth": 0,
             "ticks": ""
            },
            "colorscale": [
             [
              0,
              "#0d0887"
             ],
             [
              0.1111111111111111,
              "#46039f"
             ],
             [
              0.2222222222222222,
              "#7201a8"
             ],
             [
              0.3333333333333333,
              "#9c179e"
             ],
             [
              0.4444444444444444,
              "#bd3786"
             ],
             [
              0.5555555555555556,
              "#d8576b"
             ],
             [
              0.6666666666666666,
              "#ed7953"
             ],
             [
              0.7777777777777778,
              "#fb9f3a"
             ],
             [
              0.8888888888888888,
              "#fdca26"
             ],
             [
              1,
              "#f0f921"
             ]
            ],
            "type": "histogram2dcontour"
           }
          ],
          "mesh3d": [
           {
            "colorbar": {
             "outlinewidth": 0,
             "ticks": ""
            },
            "type": "mesh3d"
           }
          ],
          "parcoords": [
           {
            "line": {
             "colorbar": {
              "outlinewidth": 0,
              "ticks": ""
             }
            },
            "type": "parcoords"
           }
          ],
          "pie": [
           {
            "automargin": true,
            "type": "pie"
           }
          ],
          "scatter": [
           {
            "fillpattern": {
             "fillmode": "overlay",
             "size": 10,
             "solidity": 0.2
            },
            "type": "scatter"
           }
          ],
          "scatter3d": [
           {
            "line": {
             "colorbar": {
              "outlinewidth": 0,
              "ticks": ""
             }
            },
            "marker": {
             "colorbar": {
              "outlinewidth": 0,
              "ticks": ""
             }
            },
            "type": "scatter3d"
           }
          ],
          "scattercarpet": [
           {
            "marker": {
             "colorbar": {
              "outlinewidth": 0,
              "ticks": ""
             }
            },
            "type": "scattercarpet"
           }
          ],
          "scattergeo": [
           {
            "marker": {
             "colorbar": {
              "outlinewidth": 0,
              "ticks": ""
             }
            },
            "type": "scattergeo"
           }
          ],
          "scattergl": [
           {
            "marker": {
             "colorbar": {
              "outlinewidth": 0,
              "ticks": ""
             }
            },
            "type": "scattergl"
           }
          ],
          "scattermapbox": [
           {
            "marker": {
             "colorbar": {
              "outlinewidth": 0,
              "ticks": ""
             }
            },
            "type": "scattermapbox"
           }
          ],
          "scatterpolar": [
           {
            "marker": {
             "colorbar": {
              "outlinewidth": 0,
              "ticks": ""
             }
            },
            "type": "scatterpolar"
           }
          ],
          "scatterpolargl": [
           {
            "marker": {
             "colorbar": {
              "outlinewidth": 0,
              "ticks": ""
             }
            },
            "type": "scatterpolargl"
           }
          ],
          "scatterternary": [
           {
            "marker": {
             "colorbar": {
              "outlinewidth": 0,
              "ticks": ""
             }
            },
            "type": "scatterternary"
           }
          ],
          "surface": [
           {
            "colorbar": {
             "outlinewidth": 0,
             "ticks": ""
            },
            "colorscale": [
             [
              0,
              "#0d0887"
             ],
             [
              0.1111111111111111,
              "#46039f"
             ],
             [
              0.2222222222222222,
              "#7201a8"
             ],
             [
              0.3333333333333333,
              "#9c179e"
             ],
             [
              0.4444444444444444,
              "#bd3786"
             ],
             [
              0.5555555555555556,
              "#d8576b"
             ],
             [
              0.6666666666666666,
              "#ed7953"
             ],
             [
              0.7777777777777778,
              "#fb9f3a"
             ],
             [
              0.8888888888888888,
              "#fdca26"
             ],
             [
              1,
              "#f0f921"
             ]
            ],
            "type": "surface"
           }
          ],
          "table": [
           {
            "cells": {
             "fill": {
              "color": "#EBF0F8"
             },
             "line": {
              "color": "white"
             }
            },
            "header": {
             "fill": {
              "color": "#C8D4E3"
             },
             "line": {
              "color": "white"
             }
            },
            "type": "table"
           }
          ]
         },
         "layout": {
          "annotationdefaults": {
           "arrowcolor": "#2a3f5f",
           "arrowhead": 0,
           "arrowwidth": 1
          },
          "autotypenumbers": "strict",
          "coloraxis": {
           "colorbar": {
            "outlinewidth": 0,
            "ticks": ""
           }
          },
          "colorscale": {
           "diverging": [
            [
             0,
             "#8e0152"
            ],
            [
             0.1,
             "#c51b7d"
            ],
            [
             0.2,
             "#de77ae"
            ],
            [
             0.3,
             "#f1b6da"
            ],
            [
             0.4,
             "#fde0ef"
            ],
            [
             0.5,
             "#f7f7f7"
            ],
            [
             0.6,
             "#e6f5d0"
            ],
            [
             0.7,
             "#b8e186"
            ],
            [
             0.8,
             "#7fbc41"
            ],
            [
             0.9,
             "#4d9221"
            ],
            [
             1,
             "#276419"
            ]
           ],
           "sequential": [
            [
             0,
             "#0d0887"
            ],
            [
             0.1111111111111111,
             "#46039f"
            ],
            [
             0.2222222222222222,
             "#7201a8"
            ],
            [
             0.3333333333333333,
             "#9c179e"
            ],
            [
             0.4444444444444444,
             "#bd3786"
            ],
            [
             0.5555555555555556,
             "#d8576b"
            ],
            [
             0.6666666666666666,
             "#ed7953"
            ],
            [
             0.7777777777777778,
             "#fb9f3a"
            ],
            [
             0.8888888888888888,
             "#fdca26"
            ],
            [
             1,
             "#f0f921"
            ]
           ],
           "sequentialminus": [
            [
             0,
             "#0d0887"
            ],
            [
             0.1111111111111111,
             "#46039f"
            ],
            [
             0.2222222222222222,
             "#7201a8"
            ],
            [
             0.3333333333333333,
             "#9c179e"
            ],
            [
             0.4444444444444444,
             "#bd3786"
            ],
            [
             0.5555555555555556,
             "#d8576b"
            ],
            [
             0.6666666666666666,
             "#ed7953"
            ],
            [
             0.7777777777777778,
             "#fb9f3a"
            ],
            [
             0.8888888888888888,
             "#fdca26"
            ],
            [
             1,
             "#f0f921"
            ]
           ]
          },
          "colorway": [
           "#636efa",
           "#EF553B",
           "#00cc96",
           "#ab63fa",
           "#FFA15A",
           "#19d3f3",
           "#FF6692",
           "#B6E880",
           "#FF97FF",
           "#FECB52"
          ],
          "font": {
           "color": "#2a3f5f"
          },
          "geo": {
           "bgcolor": "white",
           "lakecolor": "white",
           "landcolor": "#E5ECF6",
           "showlakes": true,
           "showland": true,
           "subunitcolor": "white"
          },
          "hoverlabel": {
           "align": "left"
          },
          "hovermode": "closest",
          "mapbox": {
           "style": "light"
          },
          "paper_bgcolor": "white",
          "plot_bgcolor": "#E5ECF6",
          "polar": {
           "angularaxis": {
            "gridcolor": "white",
            "linecolor": "white",
            "ticks": ""
           },
           "bgcolor": "#E5ECF6",
           "radialaxis": {
            "gridcolor": "white",
            "linecolor": "white",
            "ticks": ""
           }
          },
          "scene": {
           "xaxis": {
            "backgroundcolor": "#E5ECF6",
            "gridcolor": "white",
            "gridwidth": 2,
            "linecolor": "white",
            "showbackground": true,
            "ticks": "",
            "zerolinecolor": "white"
           },
           "yaxis": {
            "backgroundcolor": "#E5ECF6",
            "gridcolor": "white",
            "gridwidth": 2,
            "linecolor": "white",
            "showbackground": true,
            "ticks": "",
            "zerolinecolor": "white"
           },
           "zaxis": {
            "backgroundcolor": "#E5ECF6",
            "gridcolor": "white",
            "gridwidth": 2,
            "linecolor": "white",
            "showbackground": true,
            "ticks": "",
            "zerolinecolor": "white"
           }
          },
          "shapedefaults": {
           "line": {
            "color": "#2a3f5f"
           }
          },
          "ternary": {
           "aaxis": {
            "gridcolor": "white",
            "linecolor": "white",
            "ticks": ""
           },
           "baxis": {
            "gridcolor": "white",
            "linecolor": "white",
            "ticks": ""
           },
           "bgcolor": "#E5ECF6",
           "caxis": {
            "gridcolor": "white",
            "linecolor": "white",
            "ticks": ""
           }
          },
          "title": {
           "x": 0.05
          },
          "xaxis": {
           "automargin": true,
           "gridcolor": "white",
           "linecolor": "white",
           "ticks": "",
           "title": {
            "standoff": 15
           },
           "zerolinecolor": "white",
           "zerolinewidth": 2
          },
          "yaxis": {
           "automargin": true,
           "gridcolor": "white",
           "linecolor": "white",
           "ticks": "",
           "title": {
            "standoff": 15
           },
           "zerolinecolor": "white",
           "zerolinewidth": 2
          }
         }
        },
        "xaxis": {
         "anchor": "y",
         "domain": [
          0,
          1
         ],
         "title": {
          "text": "index"
         }
        },
        "yaxis": {
         "anchor": "x",
         "domain": [
          0,
          1
         ],
         "title": {
          "text": "count"
         }
        }
       }
      }
     },
     "metadata": {},
     "output_type": "display_data"
    }
   ],
   "source": [
    "# Amount of tokens for Promoters\n",
    "most_importants = get_top_n_words(df[df.Cluster == 1].Review, n=500)\n",
    "promotores = set(most_importants.index[:100])\n",
    "print(most_importants.head(10))\n",
    "px.bar(most_importants, x=most_importants.index, y='count')"
   ]
  },
  {
   "cell_type": "code",
   "execution_count": 13,
   "metadata": {
    "colab": {
     "base_uri": "https://localhost:8080/"
    },
    "id": "d6lrCCK_RvPz",
    "outputId": "ce391cbe-0caf-4a4a-ecee-9c19f2ee0d20"
   },
   "outputs": [
    {
     "name": "stdout",
     "output_type": "stream",
     "text": [
      "{'going', 'food', 'went', 'location', 'lobby', 'right', 'area', 'floor', 'friendly', 'small', 'just', 'comfortable', 'buffet', 'booked', 'resort', 'recommend', 'bathroom', 'beautiful', 'good', 'great', 'water', 'helpful', 'room', 'big', 'fantastic', 'check', 'no', 'stayed', 'bar', 'station', 'little', 'really', 'took', 'breakfast', 'wonderful', 'the', 'stay', 'want', 'night', 'not', 'way', 'quiet', 'best', 'quite', 'desk', 'excellent', 'walking', 'nice', 'time', 'like', 'experience', 'clean', 'pool', 'perfect', 'make', 'staff', 'say', 'place', 'away', 'shower', 'service', 'city', 'rooms', 'large', 'bit', 'bed', 'better', 'definitely', 'problem', 'hotels', 'beach', 'airport', 'got', 'restaurant', 'restaurants', 'people', 'price', 'walk', 'nights', 'reviews', 'trip', 'week', 'close', 'value', 'lot', 'loved', 'day', 'morning', 'view', 'street', 'lovely', 'enjoyed', 'free', 'we', 'new', '10', 'minutes', 'days', 'did', 'hotel'}\n",
      "\n",
      "{'going', 'food', 'use', 'arrived', 'went', 'location', 'lobby', 'right', 'area', 'floor', 'friendly', 'small', 'asked', 'money', 'just', 'booked', 'buffet', 'resort', 'door', 'bathroom', 'beautiful', 'good', 'great', 'water', 'overall', 'long', 'room', 'check', 'no', 'bad', 'stayed', 'bar', 'told', 'little', 'really', 'took', 'breakfast', 'know', 'the', 'stay', 'want', 'night', 'not', 'way', 'best', 'quite', 'think', 'desk', 'nice', 'time', 'like', 'experience', 'clean', 'pool', 'make', 'need', 'pretty', 'staff', 'say', 'place', 'away', 'shower', 'pay', 'service', 'rooms', 'called', 'bit', 'old', 'bed', 'better', 'times', 'problem', 'ok', 'hotels', 'beach', 'nothing', 'got', 'restaurant', 'star', 'restaurants', 'people', 'price', 'walk', 'nights', 'reviews', 'trip', 'week', 'lot', 'left', 'day', 'morning', 'view', 'said', 'free', 'new', '10', 'minutes', 'days', 'did', 'hotel'}\n"
     ]
    }
   ],
   "source": [
    "print(promotores)\n",
    "print(\"\")\n",
    "print(detractores)"
   ]
  },
  {
   "cell_type": "code",
   "execution_count": 14,
   "metadata": {
    "colab": {
     "base_uri": "https://localhost:8080/"
    },
    "id": "esyTi3FZUJCb",
    "outputId": "50fbbcff-b54b-49d0-b640-accb003da612"
   },
   "outputs": [
    {
     "data": {
      "text/plain": [
       "{'airport',\n",
       " 'big',\n",
       " 'city',\n",
       " 'close',\n",
       " 'comfortable',\n",
       " 'definitely',\n",
       " 'enjoyed',\n",
       " 'excellent',\n",
       " 'fantastic',\n",
       " 'helpful',\n",
       " 'large',\n",
       " 'loved',\n",
       " 'lovely',\n",
       " 'perfect',\n",
       " 'quiet',\n",
       " 'recommend',\n",
       " 'station',\n",
       " 'street',\n",
       " 'value',\n",
       " 'walking',\n",
       " 'we',\n",
       " 'wonderful'}"
      ]
     },
     "execution_count": 14,
     "metadata": {},
     "output_type": "execute_result"
    }
   ],
   "source": [
    "# Within the 100 most common promoter words, the ones shown are those that are not repeated with promoters and detractors.\n",
    "diferencia = promotores-detractores\n",
    "diferencia"
   ]
  },
  {
   "cell_type": "code",
   "execution_count": 15,
   "metadata": {
    "colab": {
     "base_uri": "https://localhost:8080/"
    },
    "id": "SYzey41g0CuL",
    "outputId": "1f112786-0812-42bd-e24b-57208b4b88c2"
   },
   "outputs": [
    {
     "data": {
      "text/plain": [
       "100"
      ]
     },
     "execution_count": 15,
     "metadata": {},
     "output_type": "execute_result"
    }
   ],
   "source": [
    "palabras_comunes = detractores - diferencia\n",
    "len(palabras_comunes)"
   ]
  },
  {
   "attachments": {},
   "cell_type": "markdown",
   "metadata": {
    "id": "ibms-RhsEbjb"
   },
   "source": [
    "## NLP Process"
   ]
  },
  {
   "cell_type": "code",
   "execution_count": 16,
   "metadata": {
    "id": "7_DmNTQpnG3d"
   },
   "outputs": [],
   "source": [
    "lista = []\n",
    "for palabra in df.Review:\n",
    "  string_encode = palabra.encode(\"ascii\", \"ignore\")\n",
    "  string_decode = string_encode.decode()\n",
    "  lista.append(string_decode)\n",
    "\n",
    "df['Review'] = lista"
   ]
  },
  {
   "cell_type": "code",
   "execution_count": 17,
   "metadata": {
    "id": "AALvIFaUnG3d"
   },
   "outputs": [],
   "source": [
    "def sent_to_words(sentences):\n",
    "    for sentence in sentences:\n",
    "        yield(gensim.utils.simple_preprocess(str(sentence), deacc=True))  # deacc=True removes punctuations\n",
    "\n",
    "def ch_sep(text):\n",
    "  \"\"\"\n",
    "  Take a text and separate the special characters so that they are taken apart\n",
    "  \"\"\"\n",
    "  clean_text =' '.join(re.findall(r\"[^,.:;_~=/'/+/-]+|[,.:;_~=/'/+/-]\", text))\n",
    "  return clean_text\n",
    "\n",
    "\n",
    "\n",
    "def pre_procesamiento_texto(text):\n",
    "  # create tokens to process the data\n",
    "  \n",
    "  tokens = word_tokenize(text)\n",
    "\n",
    "  # Deleting the stopwords\n",
    "  tokens = [t.lower() for t in tokens if t.lower() not in stop_words]\n",
    "  tokens = [re.sub('\\s+', ' ', sent) for sent in tokens]\n",
    "  tokens = [re.sub('\\d', ' ', sent) for sent in tokens] #Removes numbers\n",
    "  tokens = [re.sub(' +', ' ', sent) for sent in tokens] #Removes multiple whitespaces\n",
    "  tokens = [str(sent).strip() for sent in tokens] #Removes whitespace before and after the token\n",
    "  tokens = [re.sub('[^A-Za-z0-9]+', ' ', sent) for sent in tokens] #Removes special characters\n",
    "  \n",
    "\n",
    "  stemer = []\n",
    "  for p in tokens:\n",
    "    stemer.append(stemmer.stem(p))\n",
    "  return stemer"
   ]
  },
  {
   "cell_type": "code",
   "execution_count": 18,
   "metadata": {
    "id": "zmpRSdIvnG3e"
   },
   "outputs": [],
   "source": [
    "df.Review = df.Review.apply(ch_sep)"
   ]
  },
  {
   "attachments": {},
   "cell_type": "markdown",
   "metadata": {
    "id": "T7ZZiC74x4DS"
   },
   "source": [
    "## Vectorizing Results"
   ]
  },
  {
   "cell_type": "code",
   "execution_count": 19,
   "metadata": {
    "id": "-GtbLgMTJMpU"
   },
   "outputs": [],
   "source": [
    "X_train, X_test, y_train, y_test = train_test_split(df.Review, df.Cluster,test_size=.30)"
   ]
  },
  {
   "cell_type": "code",
   "execution_count": 20,
   "metadata": {
    "colab": {
     "base_uri": "https://localhost:8080/"
    },
    "id": "iBv7KTdtLSGd",
    "outputId": "67d551c2-7abe-4d67-87c9-61355af0530a"
   },
   "outputs": [
    {
     "data": {
      "text/plain": [
       "(14343,)"
      ]
     },
     "execution_count": 20,
     "metadata": {},
     "output_type": "execute_result"
    }
   ],
   "source": [
    "X_train.shape"
   ]
  },
  {
   "cell_type": "code",
   "execution_count": 21,
   "metadata": {},
   "outputs": [],
   "source": [
    "cv = TfidfVectorizer(tokenizer=pre_procesamiento_texto)\n",
    "X_train_transform = cv.fit_transform(X_train)\n",
    "X_test_transform = cv.transform(X_test)"
   ]
  },
  {
   "cell_type": "code",
   "execution_count": 22,
   "metadata": {},
   "outputs": [
    {
     "data": {
      "text/html": [
       "<div>\n",
       "<style scoped>\n",
       "    .dataframe tbody tr th:only-of-type {\n",
       "        vertical-align: middle;\n",
       "    }\n",
       "\n",
       "    .dataframe tbody tr th {\n",
       "        vertical-align: top;\n",
       "    }\n",
       "\n",
       "    .dataframe thead th {\n",
       "        text-align: right;\n",
       "    }\n",
       "</style>\n",
       "<table border=\"1\" class=\"dataframe\">\n",
       "  <thead>\n",
       "    <tr style=\"text-align: right;\">\n",
       "      <th></th>\n",
       "      <th></th>\n",
       "      <th></th>\n",
       "      <th>a</th>\n",
       "      <th>a and</th>\n",
       "      <th>a twtt</th>\n",
       "      <th>a yo</th>\n",
       "      <th>aa</th>\n",
       "      <th>aaa</th>\n",
       "      <th>aaaa</th>\n",
       "      <th>aaaaa</th>\n",
       "      <th>...</th>\n",
       "      <th>zum</th>\n",
       "      <th>zumo</th>\n",
       "      <th>zurich</th>\n",
       "      <th>zwoll</th>\n",
       "      <th>zyrtec</th>\n",
       "      <th>zytec</th>\n",
       "      <th>zz</th>\n",
       "      <th>zzzt</th>\n",
       "      <th>zzzzt</th>\n",
       "      <th>zzzzzzzzz</th>\n",
       "    </tr>\n",
       "  </thead>\n",
       "  <tbody>\n",
       "    <tr>\n",
       "      <th>0</th>\n",
       "      <td>0.040715</td>\n",
       "      <td>0.0</td>\n",
       "      <td>0.0</td>\n",
       "      <td>0.0</td>\n",
       "      <td>0.0</td>\n",
       "      <td>0.0</td>\n",
       "      <td>0.0</td>\n",
       "      <td>0.0</td>\n",
       "      <td>0.0</td>\n",
       "      <td>0.0</td>\n",
       "      <td>...</td>\n",
       "      <td>0.0</td>\n",
       "      <td>0.0</td>\n",
       "      <td>0.0</td>\n",
       "      <td>0.0</td>\n",
       "      <td>0.0</td>\n",
       "      <td>0.0</td>\n",
       "      <td>0.0</td>\n",
       "      <td>0.0</td>\n",
       "      <td>0.0</td>\n",
       "      <td>0.0</td>\n",
       "    </tr>\n",
       "    <tr>\n",
       "      <th>1</th>\n",
       "      <td>0.169363</td>\n",
       "      <td>0.0</td>\n",
       "      <td>0.0</td>\n",
       "      <td>0.0</td>\n",
       "      <td>0.0</td>\n",
       "      <td>0.0</td>\n",
       "      <td>0.0</td>\n",
       "      <td>0.0</td>\n",
       "      <td>0.0</td>\n",
       "      <td>0.0</td>\n",
       "      <td>...</td>\n",
       "      <td>0.0</td>\n",
       "      <td>0.0</td>\n",
       "      <td>0.0</td>\n",
       "      <td>0.0</td>\n",
       "      <td>0.0</td>\n",
       "      <td>0.0</td>\n",
       "      <td>0.0</td>\n",
       "      <td>0.0</td>\n",
       "      <td>0.0</td>\n",
       "      <td>0.0</td>\n",
       "    </tr>\n",
       "    <tr>\n",
       "      <th>2</th>\n",
       "      <td>0.031354</td>\n",
       "      <td>0.0</td>\n",
       "      <td>0.0</td>\n",
       "      <td>0.0</td>\n",
       "      <td>0.0</td>\n",
       "      <td>0.0</td>\n",
       "      <td>0.0</td>\n",
       "      <td>0.0</td>\n",
       "      <td>0.0</td>\n",
       "      <td>0.0</td>\n",
       "      <td>...</td>\n",
       "      <td>0.0</td>\n",
       "      <td>0.0</td>\n",
       "      <td>0.0</td>\n",
       "      <td>0.0</td>\n",
       "      <td>0.0</td>\n",
       "      <td>0.0</td>\n",
       "      <td>0.0</td>\n",
       "      <td>0.0</td>\n",
       "      <td>0.0</td>\n",
       "      <td>0.0</td>\n",
       "    </tr>\n",
       "    <tr>\n",
       "      <th>3</th>\n",
       "      <td>0.307011</td>\n",
       "      <td>0.0</td>\n",
       "      <td>0.0</td>\n",
       "      <td>0.0</td>\n",
       "      <td>0.0</td>\n",
       "      <td>0.0</td>\n",
       "      <td>0.0</td>\n",
       "      <td>0.0</td>\n",
       "      <td>0.0</td>\n",
       "      <td>0.0</td>\n",
       "      <td>...</td>\n",
       "      <td>0.0</td>\n",
       "      <td>0.0</td>\n",
       "      <td>0.0</td>\n",
       "      <td>0.0</td>\n",
       "      <td>0.0</td>\n",
       "      <td>0.0</td>\n",
       "      <td>0.0</td>\n",
       "      <td>0.0</td>\n",
       "      <td>0.0</td>\n",
       "      <td>0.0</td>\n",
       "    </tr>\n",
       "    <tr>\n",
       "      <th>4</th>\n",
       "      <td>0.000000</td>\n",
       "      <td>0.0</td>\n",
       "      <td>0.0</td>\n",
       "      <td>0.0</td>\n",
       "      <td>0.0</td>\n",
       "      <td>0.0</td>\n",
       "      <td>0.0</td>\n",
       "      <td>0.0</td>\n",
       "      <td>0.0</td>\n",
       "      <td>0.0</td>\n",
       "      <td>...</td>\n",
       "      <td>0.0</td>\n",
       "      <td>0.0</td>\n",
       "      <td>0.0</td>\n",
       "      <td>0.0</td>\n",
       "      <td>0.0</td>\n",
       "      <td>0.0</td>\n",
       "      <td>0.0</td>\n",
       "      <td>0.0</td>\n",
       "      <td>0.0</td>\n",
       "      <td>0.0</td>\n",
       "    </tr>\n",
       "    <tr>\n",
       "      <th>...</th>\n",
       "      <td>...</td>\n",
       "      <td>...</td>\n",
       "      <td>...</td>\n",
       "      <td>...</td>\n",
       "      <td>...</td>\n",
       "      <td>...</td>\n",
       "      <td>...</td>\n",
       "      <td>...</td>\n",
       "      <td>...</td>\n",
       "      <td>...</td>\n",
       "      <td>...</td>\n",
       "      <td>...</td>\n",
       "      <td>...</td>\n",
       "      <td>...</td>\n",
       "      <td>...</td>\n",
       "      <td>...</td>\n",
       "      <td>...</td>\n",
       "      <td>...</td>\n",
       "      <td>...</td>\n",
       "      <td>...</td>\n",
       "      <td>...</td>\n",
       "    </tr>\n",
       "    <tr>\n",
       "      <th>14338</th>\n",
       "      <td>0.000000</td>\n",
       "      <td>0.0</td>\n",
       "      <td>0.0</td>\n",
       "      <td>0.0</td>\n",
       "      <td>0.0</td>\n",
       "      <td>0.0</td>\n",
       "      <td>0.0</td>\n",
       "      <td>0.0</td>\n",
       "      <td>0.0</td>\n",
       "      <td>0.0</td>\n",
       "      <td>...</td>\n",
       "      <td>0.0</td>\n",
       "      <td>0.0</td>\n",
       "      <td>0.0</td>\n",
       "      <td>0.0</td>\n",
       "      <td>0.0</td>\n",
       "      <td>0.0</td>\n",
       "      <td>0.0</td>\n",
       "      <td>0.0</td>\n",
       "      <td>0.0</td>\n",
       "      <td>0.0</td>\n",
       "    </tr>\n",
       "    <tr>\n",
       "      <th>14339</th>\n",
       "      <td>0.215211</td>\n",
       "      <td>0.0</td>\n",
       "      <td>0.0</td>\n",
       "      <td>0.0</td>\n",
       "      <td>0.0</td>\n",
       "      <td>0.0</td>\n",
       "      <td>0.0</td>\n",
       "      <td>0.0</td>\n",
       "      <td>0.0</td>\n",
       "      <td>0.0</td>\n",
       "      <td>...</td>\n",
       "      <td>0.0</td>\n",
       "      <td>0.0</td>\n",
       "      <td>0.0</td>\n",
       "      <td>0.0</td>\n",
       "      <td>0.0</td>\n",
       "      <td>0.0</td>\n",
       "      <td>0.0</td>\n",
       "      <td>0.0</td>\n",
       "      <td>0.0</td>\n",
       "      <td>0.0</td>\n",
       "    </tr>\n",
       "    <tr>\n",
       "      <th>14340</th>\n",
       "      <td>0.069331</td>\n",
       "      <td>0.0</td>\n",
       "      <td>0.0</td>\n",
       "      <td>0.0</td>\n",
       "      <td>0.0</td>\n",
       "      <td>0.0</td>\n",
       "      <td>0.0</td>\n",
       "      <td>0.0</td>\n",
       "      <td>0.0</td>\n",
       "      <td>0.0</td>\n",
       "      <td>...</td>\n",
       "      <td>0.0</td>\n",
       "      <td>0.0</td>\n",
       "      <td>0.0</td>\n",
       "      <td>0.0</td>\n",
       "      <td>0.0</td>\n",
       "      <td>0.0</td>\n",
       "      <td>0.0</td>\n",
       "      <td>0.0</td>\n",
       "      <td>0.0</td>\n",
       "      <td>0.0</td>\n",
       "    </tr>\n",
       "    <tr>\n",
       "      <th>14341</th>\n",
       "      <td>0.257002</td>\n",
       "      <td>0.0</td>\n",
       "      <td>0.0</td>\n",
       "      <td>0.0</td>\n",
       "      <td>0.0</td>\n",
       "      <td>0.0</td>\n",
       "      <td>0.0</td>\n",
       "      <td>0.0</td>\n",
       "      <td>0.0</td>\n",
       "      <td>0.0</td>\n",
       "      <td>...</td>\n",
       "      <td>0.0</td>\n",
       "      <td>0.0</td>\n",
       "      <td>0.0</td>\n",
       "      <td>0.0</td>\n",
       "      <td>0.0</td>\n",
       "      <td>0.0</td>\n",
       "      <td>0.0</td>\n",
       "      <td>0.0</td>\n",
       "      <td>0.0</td>\n",
       "      <td>0.0</td>\n",
       "    </tr>\n",
       "    <tr>\n",
       "      <th>14342</th>\n",
       "      <td>0.105768</td>\n",
       "      <td>0.0</td>\n",
       "      <td>0.0</td>\n",
       "      <td>0.0</td>\n",
       "      <td>0.0</td>\n",
       "      <td>0.0</td>\n",
       "      <td>0.0</td>\n",
       "      <td>0.0</td>\n",
       "      <td>0.0</td>\n",
       "      <td>0.0</td>\n",
       "      <td>...</td>\n",
       "      <td>0.0</td>\n",
       "      <td>0.0</td>\n",
       "      <td>0.0</td>\n",
       "      <td>0.0</td>\n",
       "      <td>0.0</td>\n",
       "      <td>0.0</td>\n",
       "      <td>0.0</td>\n",
       "      <td>0.0</td>\n",
       "      <td>0.0</td>\n",
       "      <td>0.0</td>\n",
       "    </tr>\n",
       "  </tbody>\n",
       "</table>\n",
       "<p>14343 rows × 29493 columns</p>\n",
       "</div>"
      ],
      "text/plain": [
       "                        a  a and  a twtt  a yo   aa  aaa  aaaa  aaaaa  ...  \\\n",
       "0      0.040715  0.0  0.0    0.0     0.0   0.0  0.0  0.0   0.0    0.0  ...   \n",
       "1      0.169363  0.0  0.0    0.0     0.0   0.0  0.0  0.0   0.0    0.0  ...   \n",
       "2      0.031354  0.0  0.0    0.0     0.0   0.0  0.0  0.0   0.0    0.0  ...   \n",
       "3      0.307011  0.0  0.0    0.0     0.0   0.0  0.0  0.0   0.0    0.0  ...   \n",
       "4      0.000000  0.0  0.0    0.0     0.0   0.0  0.0  0.0   0.0    0.0  ...   \n",
       "...         ...  ...  ...    ...     ...   ...  ...  ...   ...    ...  ...   \n",
       "14338  0.000000  0.0  0.0    0.0     0.0   0.0  0.0  0.0   0.0    0.0  ...   \n",
       "14339  0.215211  0.0  0.0    0.0     0.0   0.0  0.0  0.0   0.0    0.0  ...   \n",
       "14340  0.069331  0.0  0.0    0.0     0.0   0.0  0.0  0.0   0.0    0.0  ...   \n",
       "14341  0.257002  0.0  0.0    0.0     0.0   0.0  0.0  0.0   0.0    0.0  ...   \n",
       "14342  0.105768  0.0  0.0    0.0     0.0   0.0  0.0  0.0   0.0    0.0  ...   \n",
       "\n",
       "       zum  zumo  zurich  zwoll  zyrtec  zytec   zz  zzzt  zzzzt  zzzzzzzzz  \n",
       "0      0.0   0.0     0.0    0.0     0.0    0.0  0.0   0.0    0.0        0.0  \n",
       "1      0.0   0.0     0.0    0.0     0.0    0.0  0.0   0.0    0.0        0.0  \n",
       "2      0.0   0.0     0.0    0.0     0.0    0.0  0.0   0.0    0.0        0.0  \n",
       "3      0.0   0.0     0.0    0.0     0.0    0.0  0.0   0.0    0.0        0.0  \n",
       "4      0.0   0.0     0.0    0.0     0.0    0.0  0.0   0.0    0.0        0.0  \n",
       "...    ...   ...     ...    ...     ...    ...  ...   ...    ...        ...  \n",
       "14338  0.0   0.0     0.0    0.0     0.0    0.0  0.0   0.0    0.0        0.0  \n",
       "14339  0.0   0.0     0.0    0.0     0.0    0.0  0.0   0.0    0.0        0.0  \n",
       "14340  0.0   0.0     0.0    0.0     0.0    0.0  0.0   0.0    0.0        0.0  \n",
       "14341  0.0   0.0     0.0    0.0     0.0    0.0  0.0   0.0    0.0        0.0  \n",
       "14342  0.0   0.0     0.0    0.0     0.0    0.0  0.0   0.0    0.0        0.0  \n",
       "\n",
       "[14343 rows x 29493 columns]"
      ]
     },
     "execution_count": 22,
     "metadata": {},
     "output_type": "execute_result"
    }
   ],
   "source": [
    "df_tranform = pd.DataFrame.sparse.from_spmatrix(X_train_transform, columns=cv.get_feature_names_out())\n",
    "df_tranform"
   ]
  },
  {
   "cell_type": "code",
   "execution_count": 23,
   "metadata": {},
   "outputs": [],
   "source": [
    "# Selects the features that best discriminate for each class\n",
    "\n",
    "y_train = y_train.astype(int)\n",
    "y_test = y_test.astype(int)\n",
    "\n",
    "score_fn = chi2 #f_classif #chi2\n",
    "train_fold = X_train_transform\n",
    "train_targets_fold = y_train\n",
    "nombres_features = list(df_tranform.columns)\n",
    "MAX_FEATURES = 1000 #500\n",
    "nombres_features = list(df_tranform.columns)\n",
    "test_fold = X_test_transform"
   ]
  },
  {
   "cell_type": "code",
   "execution_count": 24,
   "metadata": {},
   "outputs": [
    {
     "data": {
      "text/plain": [
       "array([ True, False, False, ..., False, False, False])"
      ]
     },
     "execution_count": 24,
     "metadata": {},
     "output_type": "execute_result"
    }
   ],
   "source": [
    "# Selects features from training folds\n",
    "selector_features = SelectKBest(score_func=score_fn, k=MAX_FEATURES)\n",
    "selector_features.fit(train_fold, train_targets_fold)\n",
    "\n",
    "# Leaves in the training fold only the features selected with the training fold\n",
    "train_selected = selector_features.transform(train_fold)\n",
    "\n",
    "# Leaves in the test fold only the features selected with the training fold\n",
    "test_selected = selector_features.transform(test_fold)\n",
    "selector_features.get_support()"
   ]
  },
  {
   "attachments": {},
   "cell_type": "markdown",
   "metadata": {},
   "source": [
    "# Modeling"
   ]
  },
  {
   "attachments": {},
   "cell_type": "markdown",
   "metadata": {
    "id": "uEi0st59Efp9"
   },
   "source": [
    "## Logistic Regression"
   ]
  },
  {
   "cell_type": "code",
   "execution_count": 25,
   "metadata": {},
   "outputs": [
    {
     "name": "stderr",
     "output_type": "stream",
     "text": [
      "d:\\venv_python\\text_mining\\lib\\site-packages\\sklearn\\linear_model\\_logistic.py:1113: UserWarning:\n",
      "\n",
      "Setting penalty='none' will ignore the C and l1_ratio parameters\n",
      "\n",
      "d:\\venv_python\\text_mining\\lib\\site-packages\\sklearn\\linear_model\\_logistic.py:1113: UserWarning:\n",
      "\n",
      "Setting penalty='none' will ignore the C and l1_ratio parameters\n",
      "\n",
      "d:\\venv_python\\text_mining\\lib\\site-packages\\sklearn\\linear_model\\_logistic.py:1113: UserWarning:\n",
      "\n",
      "Setting penalty='none' will ignore the C and l1_ratio parameters\n",
      "\n",
      "d:\\venv_python\\text_mining\\lib\\site-packages\\sklearn\\linear_model\\_logistic.py:1113: UserWarning:\n",
      "\n",
      "Setting penalty='none' will ignore the C and l1_ratio parameters\n",
      "\n",
      "d:\\venv_python\\text_mining\\lib\\site-packages\\sklearn\\linear_model\\_logistic.py:1113: UserWarning:\n",
      "\n",
      "Setting penalty='none' will ignore the C and l1_ratio parameters\n",
      "\n",
      "d:\\venv_python\\text_mining\\lib\\site-packages\\sklearn\\linear_model\\_logistic.py:1113: UserWarning:\n",
      "\n",
      "Setting penalty='none' will ignore the C and l1_ratio parameters\n",
      "\n",
      "d:\\venv_python\\text_mining\\lib\\site-packages\\sklearn\\linear_model\\_logistic.py:1113: UserWarning:\n",
      "\n",
      "Setting penalty='none' will ignore the C and l1_ratio parameters\n",
      "\n",
      "d:\\venv_python\\text_mining\\lib\\site-packages\\sklearn\\linear_model\\_logistic.py:1113: UserWarning:\n",
      "\n",
      "Setting penalty='none' will ignore the C and l1_ratio parameters\n",
      "\n",
      "d:\\venv_python\\text_mining\\lib\\site-packages\\sklearn\\linear_model\\_logistic.py:1113: UserWarning:\n",
      "\n",
      "Setting penalty='none' will ignore the C and l1_ratio parameters\n",
      "\n",
      "d:\\venv_python\\text_mining\\lib\\site-packages\\sklearn\\linear_model\\_logistic.py:1113: UserWarning:\n",
      "\n",
      "Setting penalty='none' will ignore the C and l1_ratio parameters\n",
      "\n",
      "d:\\venv_python\\text_mining\\lib\\site-packages\\sklearn\\linear_model\\_logistic.py:1113: UserWarning:\n",
      "\n",
      "Setting penalty='none' will ignore the C and l1_ratio parameters\n",
      "\n",
      "d:\\venv_python\\text_mining\\lib\\site-packages\\sklearn\\linear_model\\_logistic.py:1113: UserWarning:\n",
      "\n",
      "Setting penalty='none' will ignore the C and l1_ratio parameters\n",
      "\n",
      "d:\\venv_python\\text_mining\\lib\\site-packages\\sklearn\\linear_model\\_logistic.py:1113: UserWarning:\n",
      "\n",
      "Setting penalty='none' will ignore the C and l1_ratio parameters\n",
      "\n",
      "d:\\venv_python\\text_mining\\lib\\site-packages\\sklearn\\linear_model\\_logistic.py:1113: UserWarning:\n",
      "\n",
      "Setting penalty='none' will ignore the C and l1_ratio parameters\n",
      "\n",
      "d:\\venv_python\\text_mining\\lib\\site-packages\\sklearn\\linear_model\\_logistic.py:1113: UserWarning:\n",
      "\n",
      "Setting penalty='none' will ignore the C and l1_ratio parameters\n",
      "\n",
      "d:\\venv_python\\text_mining\\lib\\site-packages\\sklearn\\linear_model\\_logistic.py:1113: UserWarning:\n",
      "\n",
      "Setting penalty='none' will ignore the C and l1_ratio parameters\n",
      "\n",
      "d:\\venv_python\\text_mining\\lib\\site-packages\\sklearn\\linear_model\\_logistic.py:1113: UserWarning:\n",
      "\n",
      "Setting penalty='none' will ignore the C and l1_ratio parameters\n",
      "\n",
      "d:\\venv_python\\text_mining\\lib\\site-packages\\sklearn\\linear_model\\_logistic.py:1113: UserWarning:\n",
      "\n",
      "Setting penalty='none' will ignore the C and l1_ratio parameters\n",
      "\n",
      "d:\\venv_python\\text_mining\\lib\\site-packages\\sklearn\\linear_model\\_logistic.py:1113: UserWarning:\n",
      "\n",
      "Setting penalty='none' will ignore the C and l1_ratio parameters\n",
      "\n",
      "d:\\venv_python\\text_mining\\lib\\site-packages\\sklearn\\linear_model\\_logistic.py:1113: UserWarning:\n",
      "\n",
      "Setting penalty='none' will ignore the C and l1_ratio parameters\n",
      "\n",
      "d:\\venv_python\\text_mining\\lib\\site-packages\\sklearn\\linear_model\\_logistic.py:1113: UserWarning:\n",
      "\n",
      "Setting penalty='none' will ignore the C and l1_ratio parameters\n",
      "\n",
      "d:\\venv_python\\text_mining\\lib\\site-packages\\sklearn\\linear_model\\_logistic.py:444: ConvergenceWarning:\n",
      "\n",
      "lbfgs failed to converge (status=1):\n",
      "STOP: TOTAL NO. of ITERATIONS REACHED LIMIT.\n",
      "\n",
      "Increase the number of iterations (max_iter) or scale the data as shown in:\n",
      "    https://scikit-learn.org/stable/modules/preprocessing.html\n",
      "Please also refer to the documentation for alternative solver options:\n",
      "    https://scikit-learn.org/stable/modules/linear_model.html#logistic-regression\n",
      "\n",
      "d:\\venv_python\\text_mining\\lib\\site-packages\\sklearn\\linear_model\\_logistic.py:1113: UserWarning:\n",
      "\n",
      "Setting penalty='none' will ignore the C and l1_ratio parameters\n",
      "\n",
      "d:\\venv_python\\text_mining\\lib\\site-packages\\sklearn\\linear_model\\_logistic.py:1113: UserWarning:\n",
      "\n",
      "Setting penalty='none' will ignore the C and l1_ratio parameters\n",
      "\n",
      "d:\\venv_python\\text_mining\\lib\\site-packages\\sklearn\\linear_model\\_logistic.py:444: ConvergenceWarning:\n",
      "\n",
      "lbfgs failed to converge (status=1):\n",
      "STOP: TOTAL NO. of ITERATIONS REACHED LIMIT.\n",
      "\n",
      "Increase the number of iterations (max_iter) or scale the data as shown in:\n",
      "    https://scikit-learn.org/stable/modules/preprocessing.html\n",
      "Please also refer to the documentation for alternative solver options:\n",
      "    https://scikit-learn.org/stable/modules/linear_model.html#logistic-regression\n",
      "\n",
      "d:\\venv_python\\text_mining\\lib\\site-packages\\sklearn\\linear_model\\_logistic.py:1113: UserWarning:\n",
      "\n",
      "Setting penalty='none' will ignore the C and l1_ratio parameters\n",
      "\n",
      "d:\\venv_python\\text_mining\\lib\\site-packages\\sklearn\\linear_model\\_logistic.py:444: ConvergenceWarning:\n",
      "\n",
      "lbfgs failed to converge (status=1):\n",
      "STOP: TOTAL NO. of ITERATIONS REACHED LIMIT.\n",
      "\n",
      "Increase the number of iterations (max_iter) or scale the data as shown in:\n",
      "    https://scikit-learn.org/stable/modules/preprocessing.html\n",
      "Please also refer to the documentation for alternative solver options:\n",
      "    https://scikit-learn.org/stable/modules/linear_model.html#logistic-regression\n",
      "\n",
      "d:\\venv_python\\text_mining\\lib\\site-packages\\sklearn\\linear_model\\_logistic.py:1113: UserWarning:\n",
      "\n",
      "Setting penalty='none' will ignore the C and l1_ratio parameters\n",
      "\n",
      "d:\\venv_python\\text_mining\\lib\\site-packages\\sklearn\\linear_model\\_logistic.py:444: ConvergenceWarning:\n",
      "\n",
      "lbfgs failed to converge (status=1):\n",
      "STOP: TOTAL NO. of ITERATIONS REACHED LIMIT.\n",
      "\n",
      "Increase the number of iterations (max_iter) or scale the data as shown in:\n",
      "    https://scikit-learn.org/stable/modules/preprocessing.html\n",
      "Please also refer to the documentation for alternative solver options:\n",
      "    https://scikit-learn.org/stable/modules/linear_model.html#logistic-regression\n",
      "\n",
      "d:\\venv_python\\text_mining\\lib\\site-packages\\sklearn\\linear_model\\_logistic.py:1113: UserWarning:\n",
      "\n",
      "Setting penalty='none' will ignore the C and l1_ratio parameters\n",
      "\n",
      "d:\\venv_python\\text_mining\\lib\\site-packages\\sklearn\\linear_model\\_logistic.py:1113: UserWarning:\n",
      "\n",
      "Setting penalty='none' will ignore the C and l1_ratio parameters\n",
      "\n",
      "d:\\venv_python\\text_mining\\lib\\site-packages\\sklearn\\linear_model\\_logistic.py:1113: UserWarning:\n",
      "\n",
      "Setting penalty='none' will ignore the C and l1_ratio parameters\n",
      "\n",
      "d:\\venv_python\\text_mining\\lib\\site-packages\\sklearn\\linear_model\\_logistic.py:1113: UserWarning:\n",
      "\n",
      "Setting penalty='none' will ignore the C and l1_ratio parameters\n",
      "\n",
      "d:\\venv_python\\text_mining\\lib\\site-packages\\sklearn\\linear_model\\_logistic.py:1113: UserWarning:\n",
      "\n",
      "Setting penalty='none' will ignore the C and l1_ratio parameters\n",
      "\n",
      "d:\\venv_python\\text_mining\\lib\\site-packages\\sklearn\\linear_model\\_logistic.py:1113: UserWarning:\n",
      "\n",
      "Setting penalty='none' will ignore the C and l1_ratio parameters\n",
      "\n",
      "d:\\venv_python\\text_mining\\lib\\site-packages\\sklearn\\linear_model\\_logistic.py:1113: UserWarning:\n",
      "\n",
      "Setting penalty='none' will ignore the C and l1_ratio parameters\n",
      "\n",
      "d:\\venv_python\\text_mining\\lib\\site-packages\\sklearn\\linear_model\\_logistic.py:1113: UserWarning:\n",
      "\n",
      "Setting penalty='none' will ignore the C and l1_ratio parameters\n",
      "\n",
      "d:\\venv_python\\text_mining\\lib\\site-packages\\sklearn\\linear_model\\_logistic.py:1113: UserWarning:\n",
      "\n",
      "Setting penalty='none' will ignore the C and l1_ratio parameters\n",
      "\n",
      "d:\\venv_python\\text_mining\\lib\\site-packages\\sklearn\\linear_model\\_logistic.py:1113: UserWarning:\n",
      "\n",
      "Setting penalty='none' will ignore the C and l1_ratio parameters\n",
      "\n",
      "d:\\venv_python\\text_mining\\lib\\site-packages\\sklearn\\linear_model\\_logistic.py:1113: UserWarning:\n",
      "\n",
      "Setting penalty='none' will ignore the C and l1_ratio parameters\n",
      "\n",
      "d:\\venv_python\\text_mining\\lib\\site-packages\\sklearn\\linear_model\\_logistic.py:1113: UserWarning:\n",
      "\n",
      "Setting penalty='none' will ignore the C and l1_ratio parameters\n",
      "\n",
      "d:\\venv_python\\text_mining\\lib\\site-packages\\sklearn\\linear_model\\_logistic.py:1113: UserWarning:\n",
      "\n",
      "Setting penalty='none' will ignore the C and l1_ratio parameters\n",
      "\n",
      "d:\\venv_python\\text_mining\\lib\\site-packages\\sklearn\\linear_model\\_logistic.py:1113: UserWarning:\n",
      "\n",
      "Setting penalty='none' will ignore the C and l1_ratio parameters\n",
      "\n",
      "d:\\venv_python\\text_mining\\lib\\site-packages\\sklearn\\linear_model\\_logistic.py:1113: UserWarning:\n",
      "\n",
      "Setting penalty='none' will ignore the C and l1_ratio parameters\n",
      "\n",
      "d:\\venv_python\\text_mining\\lib\\site-packages\\sklearn\\linear_model\\_logistic.py:1113: UserWarning:\n",
      "\n",
      "Setting penalty='none' will ignore the C and l1_ratio parameters\n",
      "\n",
      "d:\\venv_python\\text_mining\\lib\\site-packages\\sklearn\\linear_model\\_logistic.py:444: ConvergenceWarning:\n",
      "\n",
      "lbfgs failed to converge (status=1):\n",
      "STOP: TOTAL NO. of ITERATIONS REACHED LIMIT.\n",
      "\n",
      "Increase the number of iterations (max_iter) or scale the data as shown in:\n",
      "    https://scikit-learn.org/stable/modules/preprocessing.html\n",
      "Please also refer to the documentation for alternative solver options:\n",
      "    https://scikit-learn.org/stable/modules/linear_model.html#logistic-regression\n",
      "\n",
      "d:\\venv_python\\text_mining\\lib\\site-packages\\sklearn\\linear_model\\_logistic.py:1113: UserWarning:\n",
      "\n",
      "Setting penalty='none' will ignore the C and l1_ratio parameters\n",
      "\n",
      "d:\\venv_python\\text_mining\\lib\\site-packages\\sklearn\\linear_model\\_logistic.py:444: ConvergenceWarning:\n",
      "\n",
      "lbfgs failed to converge (status=1):\n",
      "STOP: TOTAL NO. of ITERATIONS REACHED LIMIT.\n",
      "\n",
      "Increase the number of iterations (max_iter) or scale the data as shown in:\n",
      "    https://scikit-learn.org/stable/modules/preprocessing.html\n",
      "Please also refer to the documentation for alternative solver options:\n",
      "    https://scikit-learn.org/stable/modules/linear_model.html#logistic-regression\n",
      "\n",
      "d:\\venv_python\\text_mining\\lib\\site-packages\\sklearn\\linear_model\\_logistic.py:444: ConvergenceWarning:\n",
      "\n",
      "lbfgs failed to converge (status=1):\n",
      "STOP: TOTAL NO. of ITERATIONS REACHED LIMIT.\n",
      "\n",
      "Increase the number of iterations (max_iter) or scale the data as shown in:\n",
      "    https://scikit-learn.org/stable/modules/preprocessing.html\n",
      "Please also refer to the documentation for alternative solver options:\n",
      "    https://scikit-learn.org/stable/modules/linear_model.html#logistic-regression\n",
      "\n",
      "d:\\venv_python\\text_mining\\lib\\site-packages\\sklearn\\linear_model\\_logistic.py:1113: UserWarning:\n",
      "\n",
      "Setting penalty='none' will ignore the C and l1_ratio parameters\n",
      "\n",
      "d:\\venv_python\\text_mining\\lib\\site-packages\\sklearn\\linear_model\\_logistic.py:1113: UserWarning:\n",
      "\n",
      "Setting penalty='none' will ignore the C and l1_ratio parameters\n",
      "\n",
      "d:\\venv_python\\text_mining\\lib\\site-packages\\sklearn\\linear_model\\_logistic.py:444: ConvergenceWarning:\n",
      "\n",
      "lbfgs failed to converge (status=1):\n",
      "STOP: TOTAL NO. of ITERATIONS REACHED LIMIT.\n",
      "\n",
      "Increase the number of iterations (max_iter) or scale the data as shown in:\n",
      "    https://scikit-learn.org/stable/modules/preprocessing.html\n",
      "Please also refer to the documentation for alternative solver options:\n",
      "    https://scikit-learn.org/stable/modules/linear_model.html#logistic-regression\n",
      "\n",
      "d:\\venv_python\\text_mining\\lib\\site-packages\\sklearn\\linear_model\\_logistic.py:1113: UserWarning:\n",
      "\n",
      "Setting penalty='none' will ignore the C and l1_ratio parameters\n",
      "\n",
      "d:\\venv_python\\text_mining\\lib\\site-packages\\sklearn\\linear_model\\_logistic.py:444: ConvergenceWarning:\n",
      "\n",
      "lbfgs failed to converge (status=1):\n",
      "STOP: TOTAL NO. of ITERATIONS REACHED LIMIT.\n",
      "\n",
      "Increase the number of iterations (max_iter) or scale the data as shown in:\n",
      "    https://scikit-learn.org/stable/modules/preprocessing.html\n",
      "Please also refer to the documentation for alternative solver options:\n",
      "    https://scikit-learn.org/stable/modules/linear_model.html#logistic-regression\n",
      "\n",
      "d:\\venv_python\\text_mining\\lib\\site-packages\\sklearn\\linear_model\\_logistic.py:1113: UserWarning:\n",
      "\n",
      "Setting penalty='none' will ignore the C and l1_ratio parameters\n",
      "\n",
      "d:\\venv_python\\text_mining\\lib\\site-packages\\sklearn\\linear_model\\_logistic.py:444: ConvergenceWarning:\n",
      "\n",
      "lbfgs failed to converge (status=1):\n",
      "STOP: TOTAL NO. of ITERATIONS REACHED LIMIT.\n",
      "\n",
      "Increase the number of iterations (max_iter) or scale the data as shown in:\n",
      "    https://scikit-learn.org/stable/modules/preprocessing.html\n",
      "Please also refer to the documentation for alternative solver options:\n",
      "    https://scikit-learn.org/stable/modules/linear_model.html#logistic-regression\n",
      "\n",
      "d:\\venv_python\\text_mining\\lib\\site-packages\\sklearn\\linear_model\\_logistic.py:1113: UserWarning:\n",
      "\n",
      "Setting penalty='none' will ignore the C and l1_ratio parameters\n",
      "\n",
      "d:\\venv_python\\text_mining\\lib\\site-packages\\sklearn\\linear_model\\_logistic.py:444: ConvergenceWarning:\n",
      "\n",
      "lbfgs failed to converge (status=1):\n",
      "STOP: TOTAL NO. of ITERATIONS REACHED LIMIT.\n",
      "\n",
      "Increase the number of iterations (max_iter) or scale the data as shown in:\n",
      "    https://scikit-learn.org/stable/modules/preprocessing.html\n",
      "Please also refer to the documentation for alternative solver options:\n",
      "    https://scikit-learn.org/stable/modules/linear_model.html#logistic-regression\n",
      "\n",
      "d:\\venv_python\\text_mining\\lib\\site-packages\\sklearn\\linear_model\\_logistic.py:1113: UserWarning:\n",
      "\n",
      "Setting penalty='none' will ignore the C and l1_ratio parameters\n",
      "\n",
      "d:\\venv_python\\text_mining\\lib\\site-packages\\sklearn\\linear_model\\_logistic.py:444: ConvergenceWarning:\n",
      "\n",
      "lbfgs failed to converge (status=1):\n",
      "STOP: TOTAL NO. of ITERATIONS REACHED LIMIT.\n",
      "\n",
      "Increase the number of iterations (max_iter) or scale the data as shown in:\n",
      "    https://scikit-learn.org/stable/modules/preprocessing.html\n",
      "Please also refer to the documentation for alternative solver options:\n",
      "    https://scikit-learn.org/stable/modules/linear_model.html#logistic-regression\n",
      "\n",
      "d:\\venv_python\\text_mining\\lib\\site-packages\\sklearn\\linear_model\\_logistic.py:1113: UserWarning:\n",
      "\n",
      "Setting penalty='none' will ignore the C and l1_ratio parameters\n",
      "\n",
      "d:\\venv_python\\text_mining\\lib\\site-packages\\sklearn\\linear_model\\_logistic.py:444: ConvergenceWarning:\n",
      "\n",
      "lbfgs failed to converge (status=1):\n",
      "STOP: TOTAL NO. of ITERATIONS REACHED LIMIT.\n",
      "\n",
      "Increase the number of iterations (max_iter) or scale the data as shown in:\n",
      "    https://scikit-learn.org/stable/modules/preprocessing.html\n",
      "Please also refer to the documentation for alternative solver options:\n",
      "    https://scikit-learn.org/stable/modules/linear_model.html#logistic-regression\n",
      "\n",
      "d:\\venv_python\\text_mining\\lib\\site-packages\\sklearn\\linear_model\\_logistic.py:444: ConvergenceWarning:\n",
      "\n",
      "lbfgs failed to converge (status=1):\n",
      "STOP: TOTAL NO. of ITERATIONS REACHED LIMIT.\n",
      "\n",
      "Increase the number of iterations (max_iter) or scale the data as shown in:\n",
      "    https://scikit-learn.org/stable/modules/preprocessing.html\n",
      "Please also refer to the documentation for alternative solver options:\n",
      "    https://scikit-learn.org/stable/modules/linear_model.html#logistic-regression\n",
      "\n",
      "d:\\venv_python\\text_mining\\lib\\site-packages\\sklearn\\linear_model\\_logistic.py:444: ConvergenceWarning:\n",
      "\n",
      "lbfgs failed to converge (status=1):\n",
      "STOP: TOTAL NO. of ITERATIONS REACHED LIMIT.\n",
      "\n",
      "Increase the number of iterations (max_iter) or scale the data as shown in:\n",
      "    https://scikit-learn.org/stable/modules/preprocessing.html\n",
      "Please also refer to the documentation for alternative solver options:\n",
      "    https://scikit-learn.org/stable/modules/linear_model.html#logistic-regression\n",
      "\n",
      "d:\\venv_python\\text_mining\\lib\\site-packages\\sklearn\\linear_model\\_logistic.py:1113: UserWarning:\n",
      "\n",
      "Setting penalty='none' will ignore the C and l1_ratio parameters\n",
      "\n",
      "d:\\venv_python\\text_mining\\lib\\site-packages\\sklearn\\linear_model\\_logistic.py:1113: UserWarning:\n",
      "\n",
      "Setting penalty='none' will ignore the C and l1_ratio parameters\n",
      "\n",
      "d:\\venv_python\\text_mining\\lib\\site-packages\\sklearn\\linear_model\\_logistic.py:1113: UserWarning:\n",
      "\n",
      "Setting penalty='none' will ignore the C and l1_ratio parameters\n",
      "\n",
      "d:\\venv_python\\text_mining\\lib\\site-packages\\sklearn\\linear_model\\_logistic.py:444: ConvergenceWarning:\n",
      "\n",
      "lbfgs failed to converge (status=1):\n",
      "STOP: TOTAL NO. of ITERATIONS REACHED LIMIT.\n",
      "\n",
      "Increase the number of iterations (max_iter) or scale the data as shown in:\n",
      "    https://scikit-learn.org/stable/modules/preprocessing.html\n",
      "Please also refer to the documentation for alternative solver options:\n",
      "    https://scikit-learn.org/stable/modules/linear_model.html#logistic-regression\n",
      "\n",
      "d:\\venv_python\\text_mining\\lib\\site-packages\\sklearn\\linear_model\\_logistic.py:1113: UserWarning:\n",
      "\n",
      "Setting penalty='none' will ignore the C and l1_ratio parameters\n",
      "\n",
      "d:\\venv_python\\text_mining\\lib\\site-packages\\sklearn\\linear_model\\_logistic.py:1113: UserWarning:\n",
      "\n",
      "Setting penalty='none' will ignore the C and l1_ratio parameters\n",
      "\n",
      "d:\\venv_python\\text_mining\\lib\\site-packages\\sklearn\\linear_model\\_logistic.py:1113: UserWarning:\n",
      "\n",
      "Setting penalty='none' will ignore the C and l1_ratio parameters\n",
      "\n",
      "d:\\venv_python\\text_mining\\lib\\site-packages\\sklearn\\linear_model\\_logistic.py:1113: UserWarning:\n",
      "\n",
      "Setting penalty='none' will ignore the C and l1_ratio parameters\n",
      "\n",
      "d:\\venv_python\\text_mining\\lib\\site-packages\\sklearn\\linear_model\\_logistic.py:1113: UserWarning:\n",
      "\n",
      "Setting penalty='none' will ignore the C and l1_ratio parameters\n",
      "\n",
      "d:\\venv_python\\text_mining\\lib\\site-packages\\sklearn\\linear_model\\_logistic.py:1113: UserWarning:\n",
      "\n",
      "Setting penalty='none' will ignore the C and l1_ratio parameters\n",
      "\n",
      "d:\\venv_python\\text_mining\\lib\\site-packages\\sklearn\\linear_model\\_logistic.py:1113: UserWarning:\n",
      "\n",
      "Setting penalty='none' will ignore the C and l1_ratio parameters\n",
      "\n",
      "d:\\venv_python\\text_mining\\lib\\site-packages\\sklearn\\linear_model\\_logistic.py:1113: UserWarning:\n",
      "\n",
      "Setting penalty='none' will ignore the C and l1_ratio parameters\n",
      "\n",
      "d:\\venv_python\\text_mining\\lib\\site-packages\\sklearn\\linear_model\\_logistic.py:1113: UserWarning:\n",
      "\n",
      "Setting penalty='none' will ignore the C and l1_ratio parameters\n",
      "\n"
     ]
    }
   ],
   "source": [
    "lr = LogisticRegression()\n",
    "\n",
    "def objective(trial : optuna.Trial, X, y):\n",
    "\n",
    "    modelo = lr.set_params(max_iter = 1000,\n",
    "    solver=  trial.suggest_categorical('solver', ['lbfgs', 'newton-cg']),\n",
    "    #trial.suggest_categorical('solver', ['lbfgs', 'saga', 'sag', 'liblinear', 'newton-cg', 'newton-cholesky']),\n",
    "    penalty= trial.suggest_categorical('penalty', [ 'l2', 'none']),\n",
    "    #trial.suggest_categorical('penalty', ['l1', 'l2', 'elasticnet', 'none']),\n",
    "    #l1_ratio= trial.suggest_float('l1_ratio', 0, 1),\n",
    "    C=trial.suggest_float('C', 10e-1, 100))\n",
    "\n",
    "\n",
    "    # Cross Validation.\n",
    "    folds = StratifiedKFold(n_splits=3,  shuffle=True, random_state=42)\n",
    "\n",
    "   \n",
    "    scores = cross_val_score(\n",
    "        estimator = modelo, \n",
    "        X=X,\n",
    "        y=y, \n",
    "        scoring='average_precision',\n",
    "        cv=folds, \n",
    "    )\n",
    "    \n",
    "    \n",
    "    return np.mean(scores)\n",
    "\n",
    "study_lgr = optuna.create_study(direction=\"maximize\", study_name='hiperparam_tuning_lgr')\n",
    "\n",
    "\n",
    "study_lgr.optimize(lambda trial: objective(trial,\n",
    "                                           X=train_selected,\n",
    "                                           y=y_train),\n",
    "                          n_trials=100,\n",
    "                          timeout= None,\n",
    "                          n_jobs=-1\n",
    "                          )"
   ]
  },
  {
   "cell_type": "code",
   "execution_count": 26,
   "metadata": {
    "colab": {
     "base_uri": "https://localhost:8080/"
    },
    "id": "NeeQ3F8iJ8gA",
    "outputId": "d805f764-6a83-4f19-b06b-177ccad14ce0"
   },
   "outputs": [
    {
     "data": {
      "text/html": [
       "<style>#sk-container-id-1 {color: black;background-color: white;}#sk-container-id-1 pre{padding: 0;}#sk-container-id-1 div.sk-toggleable {background-color: white;}#sk-container-id-1 label.sk-toggleable__label {cursor: pointer;display: block;width: 100%;margin-bottom: 0;padding: 0.3em;box-sizing: border-box;text-align: center;}#sk-container-id-1 label.sk-toggleable__label-arrow:before {content: \"▸\";float: left;margin-right: 0.25em;color: #696969;}#sk-container-id-1 label.sk-toggleable__label-arrow:hover:before {color: black;}#sk-container-id-1 div.sk-estimator:hover label.sk-toggleable__label-arrow:before {color: black;}#sk-container-id-1 div.sk-toggleable__content {max-height: 0;max-width: 0;overflow: hidden;text-align: left;background-color: #f0f8ff;}#sk-container-id-1 div.sk-toggleable__content pre {margin: 0.2em;color: black;border-radius: 0.25em;background-color: #f0f8ff;}#sk-container-id-1 input.sk-toggleable__control:checked~div.sk-toggleable__content {max-height: 200px;max-width: 100%;overflow: auto;}#sk-container-id-1 input.sk-toggleable__control:checked~label.sk-toggleable__label-arrow:before {content: \"▾\";}#sk-container-id-1 div.sk-estimator input.sk-toggleable__control:checked~label.sk-toggleable__label {background-color: #d4ebff;}#sk-container-id-1 div.sk-label input.sk-toggleable__control:checked~label.sk-toggleable__label {background-color: #d4ebff;}#sk-container-id-1 input.sk-hidden--visually {border: 0;clip: rect(1px 1px 1px 1px);clip: rect(1px, 1px, 1px, 1px);height: 1px;margin: -1px;overflow: hidden;padding: 0;position: absolute;width: 1px;}#sk-container-id-1 div.sk-estimator {font-family: monospace;background-color: #f0f8ff;border: 1px dotted black;border-radius: 0.25em;box-sizing: border-box;margin-bottom: 0.5em;}#sk-container-id-1 div.sk-estimator:hover {background-color: #d4ebff;}#sk-container-id-1 div.sk-parallel-item::after {content: \"\";width: 100%;border-bottom: 1px solid gray;flex-grow: 1;}#sk-container-id-1 div.sk-label:hover label.sk-toggleable__label {background-color: #d4ebff;}#sk-container-id-1 div.sk-serial::before {content: \"\";position: absolute;border-left: 1px solid gray;box-sizing: border-box;top: 0;bottom: 0;left: 50%;z-index: 0;}#sk-container-id-1 div.sk-serial {display: flex;flex-direction: column;align-items: center;background-color: white;padding-right: 0.2em;padding-left: 0.2em;position: relative;}#sk-container-id-1 div.sk-item {position: relative;z-index: 1;}#sk-container-id-1 div.sk-parallel {display: flex;align-items: stretch;justify-content: center;background-color: white;position: relative;}#sk-container-id-1 div.sk-item::before, #sk-container-id-1 div.sk-parallel-item::before {content: \"\";position: absolute;border-left: 1px solid gray;box-sizing: border-box;top: 0;bottom: 0;left: 50%;z-index: -1;}#sk-container-id-1 div.sk-parallel-item {display: flex;flex-direction: column;z-index: 1;position: relative;background-color: white;}#sk-container-id-1 div.sk-parallel-item:first-child::after {align-self: flex-end;width: 50%;}#sk-container-id-1 div.sk-parallel-item:last-child::after {align-self: flex-start;width: 50%;}#sk-container-id-1 div.sk-parallel-item:only-child::after {width: 0;}#sk-container-id-1 div.sk-dashed-wrapped {border: 1px dashed gray;margin: 0 0.4em 0.5em 0.4em;box-sizing: border-box;padding-bottom: 0.4em;background-color: white;}#sk-container-id-1 div.sk-label label {font-family: monospace;font-weight: bold;display: inline-block;line-height: 1.2em;}#sk-container-id-1 div.sk-label-container {text-align: center;}#sk-container-id-1 div.sk-container {/* jupyter's `normalize.less` sets `[hidden] { display: none; }` but bootstrap.min.css set `[hidden] { display: none !important; }` so we also need the `!important` here to be able to override the default hidden behavior on the sphinx rendered scikit-learn.org. See: https://github.com/scikit-learn/scikit-learn/issues/21755 */display: inline-block !important;position: relative;}#sk-container-id-1 div.sk-text-repr-fallback {display: none;}</style><div id=\"sk-container-id-1\" class=\"sk-top-container\"><div class=\"sk-text-repr-fallback\"><pre>LogisticRegression(C=10.525687087573361, solver=&#x27;newton-cg&#x27;)</pre><b>In a Jupyter environment, please rerun this cell to show the HTML representation or trust the notebook. <br />On GitHub, the HTML representation is unable to render, please try loading this page with nbviewer.org.</b></div><div class=\"sk-container\" hidden><div class=\"sk-item\"><div class=\"sk-estimator sk-toggleable\"><input class=\"sk-toggleable__control sk-hidden--visually\" id=\"sk-estimator-id-1\" type=\"checkbox\" checked><label for=\"sk-estimator-id-1\" class=\"sk-toggleable__label sk-toggleable__label-arrow\">LogisticRegression</label><div class=\"sk-toggleable__content\"><pre>LogisticRegression(C=10.525687087573361, solver=&#x27;newton-cg&#x27;)</pre></div></div></div></div></div>"
      ],
      "text/plain": [
       "LogisticRegression(C=10.525687087573361, solver='newton-cg')"
      ]
     },
     "execution_count": 26,
     "metadata": {},
     "output_type": "execute_result"
    }
   ],
   "source": [
    "lr = LogisticRegression(**study_lgr.best_params)\n",
    "lr.fit(train_selected, y_train)"
   ]
  },
  {
   "attachments": {},
   "cell_type": "markdown",
   "metadata": {
    "id": "PFH8353BEkm-"
   },
   "source": [
    "### Results"
   ]
  },
  {
   "cell_type": "code",
   "execution_count": 27,
   "metadata": {
    "id": "iwcvdgn1KDFT"
   },
   "outputs": [
    {
     "name": "stdout",
     "output_type": "stream",
     "text": [
      "              precision    recall  f1-score   support\n",
      "\n",
      "           0       0.83      0.76      0.80      1611\n",
      "           1       0.92      0.95      0.93      4537\n",
      "\n",
      "    accuracy                           0.90      6148\n",
      "   macro avg       0.88      0.85      0.86      6148\n",
      "weighted avg       0.90      0.90      0.90      6148\n",
      "\n"
     ]
    },
    {
     "data": {
      "text/plain": [
       "<sklearn.metrics._plot.confusion_matrix.ConfusionMatrixDisplay at 0x1eb4acabf40>"
      ]
     },
     "execution_count": 27,
     "metadata": {},
     "output_type": "execute_result"
    },
    {
     "data": {
      "image/png": "[encoded data removed]",
      "text/plain": [
       "<Figure size 432x288 with 2 Axes>"
      ]
     },
     "metadata": {
      "needs_background": "light"
     },
     "output_type": "display_data"
    }
   ],
   "source": [
    "y_pred_lr = lr.predict(test_selected)\n",
    "print(classification_report(y_test, y_pred_lr))\n",
    "plot_confusion_matrix(lr,test_selected,y_test,normalize='true')"
   ]
  },
  {
   "cell_type": "code",
   "execution_count": 28,
   "metadata": {
    "colab": {
     "base_uri": "https://localhost:8080/"
    },
    "id": "Youyd5YcKnJR",
    "outputId": "1a6fc15a-a1fd-4118-b740-431e37ccc791"
   },
   "outputs": [
    {
     "name": "stdout",
     "output_type": "stream",
     "text": [
      "[[1225  386]\n",
      " [ 244 4293]]\n"
     ]
    }
   ],
   "source": [
    "print(confusion_matrix(y_test, y_pred_lr))"
   ]
  },
  {
   "attachments": {},
   "cell_type": "markdown",
   "metadata": {
    "id": "26JMNBsWxrC2"
   },
   "source": [
    "## SVM"
   ]
  },
  {
   "cell_type": "code",
   "execution_count": 29,
   "metadata": {},
   "outputs": [
    {
     "name": "stderr",
     "output_type": "stream",
     "text": [
      "C:\\Users\\John\\AppData\\Local\\Temp\\ipykernel_1304\\801209374.py:31: ExperimentalWarning:\n",
      "\n",
      "enqueue_trial is experimental (supported from v1.2.0). The interface can change in the future.\n",
      "\n",
      "d:\\venv_python\\text_mining\\lib\\site-packages\\optuna\\study\\study.py:857: ExperimentalWarning:\n",
      "\n",
      "create_trial is experimental (supported from v2.0.0). The interface can change in the future.\n",
      "\n",
      "d:\\venv_python\\text_mining\\lib\\site-packages\\optuna\\study\\study.py:856: ExperimentalWarning:\n",
      "\n",
      "add_trial is experimental (supported from v2.0.0). The interface can change in the future.\n",
      "\n",
      "d:\\venv_python\\text_mining\\lib\\site-packages\\sklearn\\svm\\_base.py:1225: ConvergenceWarning:\n",
      "\n",
      "Liblinear failed to converge, increase the number of iterations.\n",
      "\n",
      "d:\\venv_python\\text_mining\\lib\\site-packages\\sklearn\\svm\\_base.py:1225: ConvergenceWarning:\n",
      "\n",
      "Liblinear failed to converge, increase the number of iterations.\n",
      "\n",
      "d:\\venv_python\\text_mining\\lib\\site-packages\\sklearn\\svm\\_base.py:1225: ConvergenceWarning:\n",
      "\n",
      "Liblinear failed to converge, increase the number of iterations.\n",
      "\n",
      "d:\\venv_python\\text_mining\\lib\\site-packages\\sklearn\\svm\\_base.py:1225: ConvergenceWarning:\n",
      "\n",
      "Liblinear failed to converge, increase the number of iterations.\n",
      "\n",
      "d:\\venv_python\\text_mining\\lib\\site-packages\\sklearn\\svm\\_base.py:1225: ConvergenceWarning:\n",
      "\n",
      "Liblinear failed to converge, increase the number of iterations.\n",
      "\n",
      "d:\\venv_python\\text_mining\\lib\\site-packages\\sklearn\\svm\\_base.py:1225: ConvergenceWarning:\n",
      "\n",
      "Liblinear failed to converge, increase the number of iterations.\n",
      "\n",
      "d:\\venv_python\\text_mining\\lib\\site-packages\\sklearn\\svm\\_base.py:1225: ConvergenceWarning:\n",
      "\n",
      "Liblinear failed to converge, increase the number of iterations.\n",
      "\n",
      "d:\\venv_python\\text_mining\\lib\\site-packages\\sklearn\\svm\\_base.py:1225: ConvergenceWarning:\n",
      "\n",
      "Liblinear failed to converge, increase the number of iterations.\n",
      "\n",
      "d:\\venv_python\\text_mining\\lib\\site-packages\\sklearn\\svm\\_base.py:1225: ConvergenceWarning:\n",
      "\n",
      "Liblinear failed to converge, increase the number of iterations.\n",
      "\n"
     ]
    }
   ],
   "source": [
    "svm = LinearSVC()\n",
    "\n",
    "def objective(trial : optuna.Trial, X, y):\n",
    "\n",
    "    modelo = svm.set_params(max_iter = 1000,\n",
    "    penalty= 'l2',   #trial.suggest_categorical('penalty', [ 'l2', 'l1']),\n",
    "    C=trial.suggest_float('C', 10e-1, 100),\n",
    "    dual = trial.suggest_categorical('dual', [ True, False]),\n",
    "    tol = trial.suggest_float('tol', 10e-5, 0.01),\n",
    "    )\n",
    "\n",
    "\n",
    "    # Cross Validation.\n",
    "    folds = StratifiedKFold(n_splits=3,  shuffle=True, random_state=42)\n",
    "\n",
    "   \n",
    "    scores = cross_val_score(\n",
    "        estimator = modelo, \n",
    "        X=X,\n",
    "        y=y, \n",
    "        scoring='average_precision',\n",
    "        cv=folds, \n",
    "    )\n",
    "    \n",
    "    \n",
    "    return np.mean(scores)\n",
    "\n",
    "try_these_parameters_first = {\"penalty\":'l2', \"loss\":'squared_hinge', \"dual\":True, \"tol\": 0.0001, \"C\":1.0}\n",
    "\n",
    "study_svm = optuna.create_study(direction=\"maximize\", study_name='hiperparam_tuning_svm')\n",
    "study_svm.enqueue_trial(try_these_parameters_first)\n",
    "study_svm.optimize(lambda trial: objective(trial,\n",
    "                                           X=train_selected,\n",
    "                                           y=y_train),\n",
    "                          n_trials=100,\n",
    "                          timeout= None,\n",
    "                          n_jobs=-1\n",
    "                          )"
   ]
  },
  {
   "cell_type": "code",
   "execution_count": 30,
   "metadata": {
    "colab": {
     "base_uri": "https://localhost:8080/"
    },
    "id": "qp4V5dowyVBH",
    "outputId": "daf95686-df81-4c3c-fc59-f3f37231fc6d"
   },
   "outputs": [
    {
     "data": {
      "text/html": [
       "<style>#sk-container-id-2 {color: black;background-color: white;}#sk-container-id-2 pre{padding: 0;}#sk-container-id-2 div.sk-toggleable {background-color: white;}#sk-container-id-2 label.sk-toggleable__label {cursor: pointer;display: block;width: 100%;margin-bottom: 0;padding: 0.3em;box-sizing: border-box;text-align: center;}#sk-container-id-2 label.sk-toggleable__label-arrow:before {content: \"▸\";float: left;margin-right: 0.25em;color: #696969;}#sk-container-id-2 label.sk-toggleable__label-arrow:hover:before {color: black;}#sk-container-id-2 div.sk-estimator:hover label.sk-toggleable__label-arrow:before {color: black;}#sk-container-id-2 div.sk-toggleable__content {max-height: 0;max-width: 0;overflow: hidden;text-align: left;background-color: #f0f8ff;}#sk-container-id-2 div.sk-toggleable__content pre {margin: 0.2em;color: black;border-radius: 0.25em;background-color: #f0f8ff;}#sk-container-id-2 input.sk-toggleable__control:checked~div.sk-toggleable__content {max-height: 200px;max-width: 100%;overflow: auto;}#sk-container-id-2 input.sk-toggleable__control:checked~label.sk-toggleable__label-arrow:before {content: \"▾\";}#sk-container-id-2 div.sk-estimator input.sk-toggleable__control:checked~label.sk-toggleable__label {background-color: #d4ebff;}#sk-container-id-2 div.sk-label input.sk-toggleable__control:checked~label.sk-toggleable__label {background-color: #d4ebff;}#sk-container-id-2 input.sk-hidden--visually {border: 0;clip: rect(1px 1px 1px 1px);clip: rect(1px, 1px, 1px, 1px);height: 1px;margin: -1px;overflow: hidden;padding: 0;position: absolute;width: 1px;}#sk-container-id-2 div.sk-estimator {font-family: monospace;background-color: #f0f8ff;border: 1px dotted black;border-radius: 0.25em;box-sizing: border-box;margin-bottom: 0.5em;}#sk-container-id-2 div.sk-estimator:hover {background-color: #d4ebff;}#sk-container-id-2 div.sk-parallel-item::after {content: \"\";width: 100%;border-bottom: 1px solid gray;flex-grow: 1;}#sk-container-id-2 div.sk-label:hover label.sk-toggleable__label {background-color: #d4ebff;}#sk-container-id-2 div.sk-serial::before {content: \"\";position: absolute;border-left: 1px solid gray;box-sizing: border-box;top: 0;bottom: 0;left: 50%;z-index: 0;}#sk-container-id-2 div.sk-serial {display: flex;flex-direction: column;align-items: center;background-color: white;padding-right: 0.2em;padding-left: 0.2em;position: relative;}#sk-container-id-2 div.sk-item {position: relative;z-index: 1;}#sk-container-id-2 div.sk-parallel {display: flex;align-items: stretch;justify-content: center;background-color: white;position: relative;}#sk-container-id-2 div.sk-item::before, #sk-container-id-2 div.sk-parallel-item::before {content: \"\";position: absolute;border-left: 1px solid gray;box-sizing: border-box;top: 0;bottom: 0;left: 50%;z-index: -1;}#sk-container-id-2 div.sk-parallel-item {display: flex;flex-direction: column;z-index: 1;position: relative;background-color: white;}#sk-container-id-2 div.sk-parallel-item:first-child::after {align-self: flex-end;width: 50%;}#sk-container-id-2 div.sk-parallel-item:last-child::after {align-self: flex-start;width: 50%;}#sk-container-id-2 div.sk-parallel-item:only-child::after {width: 0;}#sk-container-id-2 div.sk-dashed-wrapped {border: 1px dashed gray;margin: 0 0.4em 0.5em 0.4em;box-sizing: border-box;padding-bottom: 0.4em;background-color: white;}#sk-container-id-2 div.sk-label label {font-family: monospace;font-weight: bold;display: inline-block;line-height: 1.2em;}#sk-container-id-2 div.sk-label-container {text-align: center;}#sk-container-id-2 div.sk-container {/* jupyter's `normalize.less` sets `[hidden] { display: none; }` but bootstrap.min.css set `[hidden] { display: none !important; }` so we also need the `!important` here to be able to override the default hidden behavior on the sphinx rendered scikit-learn.org. See: https://github.com/scikit-learn/scikit-learn/issues/21755 */display: inline-block !important;position: relative;}#sk-container-id-2 div.sk-text-repr-fallback {display: none;}</style><div id=\"sk-container-id-2\" class=\"sk-top-container\"><div class=\"sk-text-repr-fallback\"><pre>LinearSVC(C=1.2738618944932287, tol=0.009450589256622795)</pre><b>In a Jupyter environment, please rerun this cell to show the HTML representation or trust the notebook. <br />On GitHub, the HTML representation is unable to render, please try loading this page with nbviewer.org.</b></div><div class=\"sk-container\" hidden><div class=\"sk-item\"><div class=\"sk-estimator sk-toggleable\"><input class=\"sk-toggleable__control sk-hidden--visually\" id=\"sk-estimator-id-2\" type=\"checkbox\" checked><label for=\"sk-estimator-id-2\" class=\"sk-toggleable__label sk-toggleable__label-arrow\">LinearSVC</label><div class=\"sk-toggleable__content\"><pre>LinearSVC(C=1.2738618944932287, tol=0.009450589256622795)</pre></div></div></div></div></div>"
      ],
      "text/plain": [
       "LinearSVC(C=1.2738618944932287, tol=0.009450589256622795)"
      ]
     },
     "execution_count": 30,
     "metadata": {},
     "output_type": "execute_result"
    }
   ],
   "source": [
    "svm = LinearSVC(**study_svm.best_params)\n",
    "svm.fit(train_selected, y_train)"
   ]
  },
  {
   "attachments": {},
   "cell_type": "markdown",
   "metadata": {
    "id": "wbbyfIDw0t3z"
   },
   "source": [
    "### Results"
   ]
  },
  {
   "cell_type": "code",
   "execution_count": 31,
   "metadata": {
    "id": "MCNCd9K00tMW"
   },
   "outputs": [
    {
     "name": "stdout",
     "output_type": "stream",
     "text": [
      "              precision    recall  f1-score   support\n",
      "\n",
      "           0       0.84      0.76      0.80      1611\n",
      "           1       0.92      0.95      0.93      4537\n",
      "\n",
      "    accuracy                           0.90      6148\n",
      "   macro avg       0.88      0.85      0.86      6148\n",
      "weighted avg       0.90      0.90      0.90      6148\n",
      "\n"
     ]
    },
    {
     "data": {
      "text/plain": [
       "<sklearn.metrics._plot.confusion_matrix.ConfusionMatrixDisplay at 0x1eb4fd1ed60>"
      ]
     },
     "execution_count": 31,
     "metadata": {},
     "output_type": "execute_result"
    },
    {
     "data": {
      "image/png": "[encoded data removed]",
      "text/plain": [
       "<Figure size 432x288 with 2 Axes>"
      ]
     },
     "metadata": {
      "needs_background": "light"
     },
     "output_type": "display_data"
    }
   ],
   "source": [
    "y_pred_svm = svm.predict(test_selected)\n",
    "print(classification_report(y_test, y_pred_svm))\n",
    "plot_confusion_matrix(svm,test_selected,y_test,normalize='true')"
   ]
  },
  {
   "cell_type": "code",
   "execution_count": 32,
   "metadata": {
    "colab": {
     "base_uri": "https://localhost:8080/"
    },
    "id": "x9IVDeVL03cm",
    "outputId": "970d6c08-8327-4c1c-80fa-7d507137481c"
   },
   "outputs": [
    {
     "name": "stdout",
     "output_type": "stream",
     "text": [
      "[[1222  389]\n",
      " [ 241 4296]]\n"
     ]
    }
   ],
   "source": [
    "print(confusion_matrix(y_test, y_pred_svm))"
   ]
  },
  {
   "attachments": {},
   "cell_type": "markdown",
   "metadata": {
    "id": "VCJTK3my1RIh"
   },
   "source": [
    "## Lightgbm\n"
   ]
  },
  {
   "cell_type": "code",
   "execution_count": 33,
   "metadata": {},
   "outputs": [
    {
     "name": "stderr",
     "output_type": "stream",
     "text": [
      "C:\\Users\\John\\AppData\\Local\\Temp\\ipykernel_1304\\3197543796.py:41: ExperimentalWarning:\n",
      "\n",
      "enqueue_trial is experimental (supported from v1.2.0). The interface can change in the future.\n",
      "\n",
      "d:\\venv_python\\text_mining\\lib\\site-packages\\optuna\\study\\study.py:857: ExperimentalWarning:\n",
      "\n",
      "create_trial is experimental (supported from v2.0.0). The interface can change in the future.\n",
      "\n",
      "d:\\venv_python\\text_mining\\lib\\site-packages\\optuna\\study\\study.py:856: ExperimentalWarning:\n",
      "\n",
      "add_trial is experimental (supported from v2.0.0). The interface can change in the future.\n",
      "\n"
     ]
    }
   ],
   "source": [
    "lgbm = LGBMClassifier()\n",
    "def objective(trial : optuna.Trial, X, y):\n",
    "    \n",
    "    max_depth=15\n",
    "\n",
    "    param_grid_lgbm = {\n",
    "        \"n_estimators\": trial.suggest_int('n_estimators', 50, 1500),\n",
    "        \"learning_rate\": trial.suggest_float(name='learning_rate', low=0.000001, high=0.1, log=True),\n",
    "        \"num_leaves\": trial.suggest_int('num_leaves', 2, min(2**14 - 1, 2**max_depth - 1), log=True),\n",
    "        \"max_depth\": trial.suggest_int('max_depth', 2, max_depth), \n",
    "        \"reg_alpha\": trial.suggest_int(\"reg_alpha\", 0, 100, step=5),  \n",
    "        \"reg_lambda\": trial.suggest_int(\"reg_lambda\", 0, 100, step=5),  \n",
    "        \"min_split_gain\": trial.suggest_float(\"min_split_gain\", 0, 15),\n",
    "        \"subsample\": trial.suggest_float(\"subsample\", 0.1, 1.0, step=0.1),\n",
    "        \"subsample_freq\": trial.suggest_categorical(\"subsample_freq\", [1,0]),\n",
    "        \"colsample_bytree\": trial.suggest_float(\"colsample_bytree\", 0.1, 1.0, step=0.1),\n",
    "        'random_state' : 42,\n",
    "        \"min_child_weight\": trial.suggest_float(\"min_child_weight\", 1e-3, 0.1),\n",
    "        \"min_child_samples\": trial.suggest_int('min_child_samples', 10, 60),\n",
    "    }\n",
    "\n",
    "    modelo = lgbm.set_params(**param_grid_lgbm)\n",
    "    \n",
    "    folds = StratifiedKFold(n_splits=3,  shuffle=True, random_state=85)\n",
    "\n",
    "    scores = cross_val_score(\n",
    "        estimator = modelo, \n",
    "        X=X, y=y, \n",
    "        scoring='precision',\n",
    "        cv=folds, \n",
    "    )  \n",
    "\n",
    "    return np.mean(scores)\n",
    "\n",
    "try_these_parameters_first = {'n_estimators': 100, 'learning_rate': 0.1, 'num_leaves': 31, 'max_depth': 10, \n",
    "'reg_alpha': 0.0, 'reg_lambda': 0.0, 'min_split_gain': 0.0, 'subsample': 1.0, 'subsample_freq': 0, \n",
    "'colsample_bytree': 1.0, 'min_child_weight': 0.001, 'min_child_samples': 20}\n",
    "\n",
    "\n",
    "study_lgbm = optuna.create_study(direction=\"maximize\",study_name='tuning_lightgbm')\n",
    "study_lgbm.enqueue_trial(try_these_parameters_first)\n",
    "study_lgbm.optimize(lambda trial: objective(trial,\n",
    "                                       X=train_selected,\n",
    "                                       y=y_train),\n",
    "                                       n_trials=50,\n",
    "                                       n_jobs=-1)"
   ]
  },
  {
   "cell_type": "code",
   "execution_count": 34,
   "metadata": {},
   "outputs": [
    {
     "data": {
      "text/html": [
       "<style>#sk-container-id-3 {color: black;background-color: white;}#sk-container-id-3 pre{padding: 0;}#sk-container-id-3 div.sk-toggleable {background-color: white;}#sk-container-id-3 label.sk-toggleable__label {cursor: pointer;display: block;width: 100%;margin-bottom: 0;padding: 0.3em;box-sizing: border-box;text-align: center;}#sk-container-id-3 label.sk-toggleable__label-arrow:before {content: \"▸\";float: left;margin-right: 0.25em;color: #696969;}#sk-container-id-3 label.sk-toggleable__label-arrow:hover:before {color: black;}#sk-container-id-3 div.sk-estimator:hover label.sk-toggleable__label-arrow:before {color: black;}#sk-container-id-3 div.sk-toggleable__content {max-height: 0;max-width: 0;overflow: hidden;text-align: left;background-color: #f0f8ff;}#sk-container-id-3 div.sk-toggleable__content pre {margin: 0.2em;color: black;border-radius: 0.25em;background-color: #f0f8ff;}#sk-container-id-3 input.sk-toggleable__control:checked~div.sk-toggleable__content {max-height: 200px;max-width: 100%;overflow: auto;}#sk-container-id-3 input.sk-toggleable__control:checked~label.sk-toggleable__label-arrow:before {content: \"▾\";}#sk-container-id-3 div.sk-estimator input.sk-toggleable__control:checked~label.sk-toggleable__label {background-color: #d4ebff;}#sk-container-id-3 div.sk-label input.sk-toggleable__control:checked~label.sk-toggleable__label {background-color: #d4ebff;}#sk-container-id-3 input.sk-hidden--visually {border: 0;clip: rect(1px 1px 1px 1px);clip: rect(1px, 1px, 1px, 1px);height: 1px;margin: -1px;overflow: hidden;padding: 0;position: absolute;width: 1px;}#sk-container-id-3 div.sk-estimator {font-family: monospace;background-color: #f0f8ff;border: 1px dotted black;border-radius: 0.25em;box-sizing: border-box;margin-bottom: 0.5em;}#sk-container-id-3 div.sk-estimator:hover {background-color: #d4ebff;}#sk-container-id-3 div.sk-parallel-item::after {content: \"\";width: 100%;border-bottom: 1px solid gray;flex-grow: 1;}#sk-container-id-3 div.sk-label:hover label.sk-toggleable__label {background-color: #d4ebff;}#sk-container-id-3 div.sk-serial::before {content: \"\";position: absolute;border-left: 1px solid gray;box-sizing: border-box;top: 0;bottom: 0;left: 50%;z-index: 0;}#sk-container-id-3 div.sk-serial {display: flex;flex-direction: column;align-items: center;background-color: white;padding-right: 0.2em;padding-left: 0.2em;position: relative;}#sk-container-id-3 div.sk-item {position: relative;z-index: 1;}#sk-container-id-3 div.sk-parallel {display: flex;align-items: stretch;justify-content: center;background-color: white;position: relative;}#sk-container-id-3 div.sk-item::before, #sk-container-id-3 div.sk-parallel-item::before {content: \"\";position: absolute;border-left: 1px solid gray;box-sizing: border-box;top: 0;bottom: 0;left: 50%;z-index: -1;}#sk-container-id-3 div.sk-parallel-item {display: flex;flex-direction: column;z-index: 1;position: relative;background-color: white;}#sk-container-id-3 div.sk-parallel-item:first-child::after {align-self: flex-end;width: 50%;}#sk-container-id-3 div.sk-parallel-item:last-child::after {align-self: flex-start;width: 50%;}#sk-container-id-3 div.sk-parallel-item:only-child::after {width: 0;}#sk-container-id-3 div.sk-dashed-wrapped {border: 1px dashed gray;margin: 0 0.4em 0.5em 0.4em;box-sizing: border-box;padding-bottom: 0.4em;background-color: white;}#sk-container-id-3 div.sk-label label {font-family: monospace;font-weight: bold;display: inline-block;line-height: 1.2em;}#sk-container-id-3 div.sk-label-container {text-align: center;}#sk-container-id-3 div.sk-container {/* jupyter's `normalize.less` sets `[hidden] { display: none; }` but bootstrap.min.css set `[hidden] { display: none !important; }` so we also need the `!important` here to be able to override the default hidden behavior on the sphinx rendered scikit-learn.org. See: https://github.com/scikit-learn/scikit-learn/issues/21755 */display: inline-block !important;position: relative;}#sk-container-id-3 div.sk-text-repr-fallback {display: none;}</style><div id=\"sk-container-id-3\" class=\"sk-top-container\"><div class=\"sk-text-repr-fallback\"><pre>LGBMClassifier(colsample_bytree=0.6, learning_rate=0.040223692755598416,\n",
       "               max_depth=13, min_child_samples=55,\n",
       "               min_child_weight=0.01613551356019533,\n",
       "               min_split_gain=1.3107811065702162, n_estimators=984,\n",
       "               num_leaves=1417, reg_alpha=70, reg_lambda=0, subsample=0.9)</pre><b>In a Jupyter environment, please rerun this cell to show the HTML representation or trust the notebook. <br />On GitHub, the HTML representation is unable to render, please try loading this page with nbviewer.org.</b></div><div class=\"sk-container\" hidden><div class=\"sk-item\"><div class=\"sk-estimator sk-toggleable\"><input class=\"sk-toggleable__control sk-hidden--visually\" id=\"sk-estimator-id-3\" type=\"checkbox\" checked><label for=\"sk-estimator-id-3\" class=\"sk-toggleable__label sk-toggleable__label-arrow\">LGBMClassifier</label><div class=\"sk-toggleable__content\"><pre>LGBMClassifier(colsample_bytree=0.6, learning_rate=0.040223692755598416,\n",
       "               max_depth=13, min_child_samples=55,\n",
       "               min_child_weight=0.01613551356019533,\n",
       "               min_split_gain=1.3107811065702162, n_estimators=984,\n",
       "               num_leaves=1417, reg_alpha=70, reg_lambda=0, subsample=0.9)</pre></div></div></div></div></div>"
      ],
      "text/plain": [
       "LGBMClassifier(colsample_bytree=0.6, learning_rate=0.040223692755598416,\n",
       "               max_depth=13, min_child_samples=55,\n",
       "               min_child_weight=0.01613551356019533,\n",
       "               min_split_gain=1.3107811065702162, n_estimators=984,\n",
       "               num_leaves=1417, reg_alpha=70, reg_lambda=0, subsample=0.9)"
      ]
     },
     "execution_count": 34,
     "metadata": {},
     "output_type": "execute_result"
    }
   ],
   "source": [
    "lgbm = LGBMClassifier(**study_lgbm.best_params)\n",
    "lgbm.fit(train_selected, y_train)"
   ]
  },
  {
   "attachments": {},
   "cell_type": "markdown",
   "metadata": {
    "id": "pgMvEbEk1psp"
   },
   "source": [
    "### Results"
   ]
  },
  {
   "cell_type": "code",
   "execution_count": 35,
   "metadata": {},
   "outputs": [
    {
     "name": "stdout",
     "output_type": "stream",
     "text": [
      "              precision    recall  f1-score   support\n",
      "\n",
      "           0       0.81      0.51      0.63      1611\n",
      "           1       0.85      0.96      0.90      4537\n",
      "\n",
      "    accuracy                           0.84      6148\n",
      "   macro avg       0.83      0.73      0.76      6148\n",
      "weighted avg       0.84      0.84      0.83      6148\n",
      "\n"
     ]
    },
    {
     "data": {
      "text/plain": [
       "<sklearn.metrics._plot.confusion_matrix.ConfusionMatrixDisplay at 0x1eb4fd90f70>"
      ]
     },
     "execution_count": 35,
     "metadata": {},
     "output_type": "execute_result"
    },
    {
     "data": {
      "image/png": "[encoded data removed]",
      "text/plain": [
       "<Figure size 432x288 with 2 Axes>"
      ]
     },
     "metadata": {
      "needs_background": "light"
     },
     "output_type": "display_data"
    }
   ],
   "source": [
    "y_pred_lgbm = lgbm.predict(test_selected)\n",
    "print(classification_report(y_test, y_pred_lgbm))\n",
    "plot_confusion_matrix(lgbm,test_selected,y_test,normalize='true')"
   ]
  },
  {
   "cell_type": "code",
   "execution_count": 36,
   "metadata": {},
   "outputs": [
    {
     "name": "stdout",
     "output_type": "stream",
     "text": [
      "[[ 827  784]\n",
      " [ 199 4338]]\n"
     ]
    }
   ],
   "source": [
    "print(confusion_matrix(y_test, y_pred_lgbm))"
   ]
  }
 ],
 "metadata": {
  "colab": {
   "collapsed_sections": [],
   "name": "Clasificacion.ipynb",
   "provenance": []
  },
  "kernelspec": {
   "display_name": "text_mining",
   "language": "python",
   "name": "text_mining"
  },
  "language_info": {
   "codemirror_mode": {
    "name": "ipython",
    "version": 3
   },
   "file_extension": ".py",
   "mimetype": "text/x-python",
   "name": "python",
   "nbconvert_exporter": "python",
   "pygments_lexer": "ipython3",
   "version": "3.9.8"
  }
 },
 "nbformat": 4,
 "nbformat_minor": 4
}
